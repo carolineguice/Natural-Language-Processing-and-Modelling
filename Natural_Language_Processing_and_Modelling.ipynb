{
  "cells": [
    {
      "cell_type": "markdown",
      "metadata": {
        "id": "g7niNUcBJGch"
      },
      "source": [
        "<hr />"
      ]
    },
    {
      "cell_type": "markdown",
      "source": [
        "**Natural Language Processing and Modelling**\n"
      ],
      "metadata": {
        "id": "mowHapZU36nz"
      }
    },
    {
      "cell_type": "markdown",
      "source": [
        "Import Libraries"
      ],
      "metadata": {
        "id": "Y1BkeLbm4vsd"
      }
    },
    {
      "cell_type": "code",
      "execution_count": null,
      "metadata": {
        "id": "3AR9Ye5KttUt"
      },
      "outputs": [],
      "source": [
        "# Imports\n",
        "import matplotlib.pyplot as plt\n",
        "import numpy as np\n",
        "import pandas as pd\n",
        "import random\n",
        "import re\n",
        "import sklearn\n",
        "import string\n",
        "from sklearn.feature_extraction.text import TfidfVectorizer\n",
        "%matplotlib inline\n",
        "\n",
        "# Set the random seed for reproducibility\n",
        "RAND_SEED = 27\n",
        "random.seed(RAND_SEED)\n",
        "np.random.seed(RAND_SEED)"
      ]
    },
    {
      "cell_type": "code",
      "execution_count": null,
      "metadata": {
        "id": "fMisTK8XKTfY",
        "colab": {
          "base_uri": "https://localhost:8080/"
        },
        "outputId": "f0c643e3-12b9-422d-aed7-51fdebdfe435"
      },
      "outputs": [
        {
          "output_type": "stream",
          "name": "stdout",
          "text": [
            "Collecting flair==0.10\n",
            "  Downloading flair-0.10-py3-none-any.whl (322 kB)\n",
            "\u001b[2K     \u001b[90m━━━━━━━━━━━━━━━━━━━━━━━━━━━━━━━━━━━━━━━━\u001b[0m \u001b[32m322.7/322.7 kB\u001b[0m \u001b[31m2.6 MB/s\u001b[0m eta \u001b[36m0:00:00\u001b[0m\n",
            "\u001b[?25hRequirement already satisfied: python-dateutil>=2.6.1 in /usr/local/lib/python3.10/dist-packages (from flair==0.10) (2.8.2)\n",
            "Requirement already satisfied: torch!=1.8,>=1.5.0 in /usr/local/lib/python3.10/dist-packages (from flair==0.10) (2.1.0+cu121)\n",
            "Requirement already satisfied: gensim>=3.4.0 in /usr/local/lib/python3.10/dist-packages (from flair==0.10) (4.3.2)\n",
            "Requirement already satisfied: tqdm>=4.26.0 in /usr/local/lib/python3.10/dist-packages (from flair==0.10) (4.66.2)\n",
            "Collecting segtok>=1.5.7 (from flair==0.10)\n",
            "  Downloading segtok-1.5.11-py3-none-any.whl (24 kB)\n",
            "Requirement already satisfied: matplotlib>=2.2.3 in /usr/local/lib/python3.10/dist-packages (from flair==0.10) (3.7.1)\n",
            "Collecting mpld3==0.3 (from flair==0.10)\n",
            "  Downloading mpld3-0.3.tar.gz (788 kB)\n",
            "\u001b[2K     \u001b[90m━━━━━━━━━━━━━━━━━━━━━━━━━━━━━━━━━━━━━━━━\u001b[0m \u001b[32m788.5/788.5 kB\u001b[0m \u001b[31m12.9 MB/s\u001b[0m eta \u001b[36m0:00:00\u001b[0m\n",
            "\u001b[?25h  Preparing metadata (setup.py) ... \u001b[?25l\u001b[?25hdone\n",
            "Requirement already satisfied: scikit-learn>=0.21.3 in /usr/local/lib/python3.10/dist-packages (from flair==0.10) (1.2.2)\n",
            "Collecting sqlitedict>=1.6.0 (from flair==0.10)\n",
            "  Downloading sqlitedict-2.1.0.tar.gz (21 kB)\n",
            "  Preparing metadata (setup.py) ... \u001b[?25l\u001b[?25hdone\n",
            "Collecting deprecated>=1.2.4 (from flair==0.10)\n",
            "  Downloading Deprecated-1.2.14-py2.py3-none-any.whl (9.6 kB)\n",
            "Requirement already satisfied: transformers>=4.0.0 in /usr/local/lib/python3.10/dist-packages (from flair==0.10) (4.38.2)\n",
            "Collecting bpemb>=0.3.2 (from flair==0.10)\n",
            "  Downloading bpemb-0.3.4-py3-none-any.whl (19 kB)\n",
            "Requirement already satisfied: regex in /usr/local/lib/python3.10/dist-packages (from flair==0.10) (2023.12.25)\n",
            "Requirement already satisfied: tabulate in /usr/local/lib/python3.10/dist-packages (from flair==0.10) (0.9.0)\n",
            "Collecting langdetect (from flair==0.10)\n",
            "  Downloading langdetect-1.0.9.tar.gz (981 kB)\n",
            "\u001b[2K     \u001b[90m━━━━━━━━━━━━━━━━━━━━━━━━━━━━━━━━━━━━━━━━\u001b[0m \u001b[32m981.5/981.5 kB\u001b[0m \u001b[31m13.6 MB/s\u001b[0m eta \u001b[36m0:00:00\u001b[0m\n",
            "\u001b[?25h  Preparing metadata (setup.py) ... \u001b[?25l\u001b[?25hdone\n",
            "Requirement already satisfied: lxml in /usr/local/lib/python3.10/dist-packages (from flair==0.10) (4.9.4)\n",
            "Collecting ftfy (from flair==0.10)\n",
            "  Downloading ftfy-6.1.3-py3-none-any.whl (53 kB)\n",
            "\u001b[2K     \u001b[90m━━━━━━━━━━━━━━━━━━━━━━━━━━━━━━━━━━━━━━━━\u001b[0m \u001b[32m53.4/53.4 kB\u001b[0m \u001b[31m6.3 MB/s\u001b[0m eta \u001b[36m0:00:00\u001b[0m\n",
            "\u001b[?25hCollecting sentencepiece==0.1.95 (from flair==0.10)\n",
            "  Downloading sentencepiece-0.1.95.tar.gz (508 kB)\n",
            "\u001b[2K     \u001b[90m━━━━━━━━━━━━━━━━━━━━━━━━━━━━━━━━━━━━━━━━\u001b[0m \u001b[32m508.7/508.7 kB\u001b[0m \u001b[31m25.8 MB/s\u001b[0m eta \u001b[36m0:00:00\u001b[0m\n",
            "\u001b[?25h  Preparing metadata (setup.py) ... \u001b[?25l\u001b[?25hdone\n",
            "Collecting konoha<5.0.0,>=4.0.0 (from flair==0.10)\n",
            "  Downloading konoha-4.6.5-py3-none-any.whl (20 kB)\n",
            "Collecting janome (from flair==0.10)\n",
            "  Downloading Janome-0.5.0-py2.py3-none-any.whl (19.7 MB)\n",
            "\u001b[2K     \u001b[90m━━━━━━━━━━━━━━━━━━━━━━━━━━━━━━━━━━━━━━━━\u001b[0m \u001b[32m19.7/19.7 MB\u001b[0m \u001b[31m12.9 MB/s\u001b[0m eta \u001b[36m0:00:00\u001b[0m\n",
            "\u001b[?25hCollecting gdown==3.12.2 (from flair==0.10)\n",
            "  Downloading gdown-3.12.2.tar.gz (8.2 kB)\n",
            "  Installing build dependencies ... \u001b[?25l\u001b[?25hdone\n",
            "  Getting requirements to build wheel ... \u001b[?25l\u001b[?25hdone\n",
            "  Preparing metadata (pyproject.toml) ... \u001b[?25l\u001b[?25hdone\n",
            "Requirement already satisfied: huggingface-hub in /usr/local/lib/python3.10/dist-packages (from flair==0.10) (0.20.3)\n",
            "Collecting conllu>=4.0 (from flair==0.10)\n",
            "  Downloading conllu-4.5.3-py2.py3-none-any.whl (16 kB)\n",
            "Collecting more-itertools~=8.8.0 (from flair==0.10)\n",
            "  Downloading more_itertools-8.8.0-py3-none-any.whl (48 kB)\n",
            "\u001b[2K     \u001b[90m━━━━━━━━━━━━━━━━━━━━━━━━━━━━━━━━━━━━━━━━\u001b[0m \u001b[32m48.8/48.8 kB\u001b[0m \u001b[31m5.4 MB/s\u001b[0m eta \u001b[36m0:00:00\u001b[0m\n",
            "\u001b[?25hCollecting wikipedia-api (from flair==0.10)\n",
            "  Downloading Wikipedia_API-0.6.0-py3-none-any.whl (14 kB)\n",
            "Requirement already satisfied: filelock in /usr/local/lib/python3.10/dist-packages (from gdown==3.12.2->flair==0.10) (3.13.1)\n",
            "Requirement already satisfied: requests[socks] in /usr/local/lib/python3.10/dist-packages (from gdown==3.12.2->flair==0.10) (2.31.0)\n",
            "Requirement already satisfied: six in /usr/local/lib/python3.10/dist-packages (from gdown==3.12.2->flair==0.10) (1.16.0)\n",
            "Requirement already satisfied: numpy in /usr/local/lib/python3.10/dist-packages (from bpemb>=0.3.2->flair==0.10) (1.25.2)\n",
            "Requirement already satisfied: wrapt<2,>=1.10 in /usr/local/lib/python3.10/dist-packages (from deprecated>=1.2.4->flair==0.10) (1.14.1)\n",
            "Requirement already satisfied: scipy>=1.7.0 in /usr/local/lib/python3.10/dist-packages (from gensim>=3.4.0->flair==0.10) (1.11.4)\n",
            "Requirement already satisfied: smart-open>=1.8.1 in /usr/local/lib/python3.10/dist-packages (from gensim>=3.4.0->flair==0.10) (6.4.0)\n",
            "Collecting importlib-metadata<4.0.0,>=3.7.0 (from konoha<5.0.0,>=4.0.0->flair==0.10)\n",
            "  Downloading importlib_metadata-3.10.1-py3-none-any.whl (14 kB)\n",
            "Collecting overrides<4.0.0,>=3.0.0 (from konoha<5.0.0,>=4.0.0->flair==0.10)\n",
            "  Downloading overrides-3.1.0.tar.gz (11 kB)\n",
            "  Preparing metadata (setup.py) ... \u001b[?25l\u001b[?25hdone\n",
            "Requirement already satisfied: contourpy>=1.0.1 in /usr/local/lib/python3.10/dist-packages (from matplotlib>=2.2.3->flair==0.10) (1.2.0)\n",
            "Requirement already satisfied: cycler>=0.10 in /usr/local/lib/python3.10/dist-packages (from matplotlib>=2.2.3->flair==0.10) (0.12.1)\n",
            "Requirement already satisfied: fonttools>=4.22.0 in /usr/local/lib/python3.10/dist-packages (from matplotlib>=2.2.3->flair==0.10) (4.49.0)\n",
            "Requirement already satisfied: kiwisolver>=1.0.1 in /usr/local/lib/python3.10/dist-packages (from matplotlib>=2.2.3->flair==0.10) (1.4.5)\n",
            "Requirement already satisfied: packaging>=20.0 in /usr/local/lib/python3.10/dist-packages (from matplotlib>=2.2.3->flair==0.10) (23.2)\n",
            "Requirement already satisfied: pillow>=6.2.0 in /usr/local/lib/python3.10/dist-packages (from matplotlib>=2.2.3->flair==0.10) (9.4.0)\n",
            "Requirement already satisfied: pyparsing>=2.3.1 in /usr/local/lib/python3.10/dist-packages (from matplotlib>=2.2.3->flair==0.10) (3.1.1)\n",
            "Requirement already satisfied: joblib>=1.1.1 in /usr/local/lib/python3.10/dist-packages (from scikit-learn>=0.21.3->flair==0.10) (1.3.2)\n",
            "Requirement already satisfied: threadpoolctl>=2.0.0 in /usr/local/lib/python3.10/dist-packages (from scikit-learn>=0.21.3->flair==0.10) (3.3.0)\n",
            "Requirement already satisfied: typing-extensions in /usr/local/lib/python3.10/dist-packages (from torch!=1.8,>=1.5.0->flair==0.10) (4.10.0)\n",
            "Requirement already satisfied: sympy in /usr/local/lib/python3.10/dist-packages (from torch!=1.8,>=1.5.0->flair==0.10) (1.12)\n",
            "Requirement already satisfied: networkx in /usr/local/lib/python3.10/dist-packages (from torch!=1.8,>=1.5.0->flair==0.10) (3.2.1)\n",
            "Requirement already satisfied: jinja2 in /usr/local/lib/python3.10/dist-packages (from torch!=1.8,>=1.5.0->flair==0.10) (3.1.3)\n",
            "Requirement already satisfied: fsspec in /usr/local/lib/python3.10/dist-packages (from torch!=1.8,>=1.5.0->flair==0.10) (2023.6.0)\n",
            "Requirement already satisfied: triton==2.1.0 in /usr/local/lib/python3.10/dist-packages (from torch!=1.8,>=1.5.0->flair==0.10) (2.1.0)\n",
            "Requirement already satisfied: pyyaml>=5.1 in /usr/local/lib/python3.10/dist-packages (from transformers>=4.0.0->flair==0.10) (6.0.1)\n",
            "Requirement already satisfied: tokenizers<0.19,>=0.14 in /usr/local/lib/python3.10/dist-packages (from transformers>=4.0.0->flair==0.10) (0.15.2)\n",
            "Requirement already satisfied: safetensors>=0.4.1 in /usr/local/lib/python3.10/dist-packages (from transformers>=4.0.0->flair==0.10) (0.4.2)\n",
            "Requirement already satisfied: wcwidth<0.3.0,>=0.2.12 in /usr/local/lib/python3.10/dist-packages (from ftfy->flair==0.10) (0.2.13)\n",
            "Requirement already satisfied: zipp>=0.5 in /usr/local/lib/python3.10/dist-packages (from importlib-metadata<4.0.0,>=3.7.0->konoha<5.0.0,>=4.0.0->flair==0.10) (3.17.0)\n",
            "Requirement already satisfied: charset-normalizer<4,>=2 in /usr/local/lib/python3.10/dist-packages (from requests[socks]->gdown==3.12.2->flair==0.10) (3.3.2)\n",
            "Requirement already satisfied: idna<4,>=2.5 in /usr/local/lib/python3.10/dist-packages (from requests[socks]->gdown==3.12.2->flair==0.10) (3.6)\n",
            "Requirement already satisfied: urllib3<3,>=1.21.1 in /usr/local/lib/python3.10/dist-packages (from requests[socks]->gdown==3.12.2->flair==0.10) (2.0.7)\n",
            "Requirement already satisfied: certifi>=2017.4.17 in /usr/local/lib/python3.10/dist-packages (from requests[socks]->gdown==3.12.2->flair==0.10) (2024.2.2)\n",
            "Requirement already satisfied: MarkupSafe>=2.0 in /usr/local/lib/python3.10/dist-packages (from jinja2->torch!=1.8,>=1.5.0->flair==0.10) (2.1.5)\n",
            "Requirement already satisfied: PySocks!=1.5.7,>=1.5.6 in /usr/local/lib/python3.10/dist-packages (from requests[socks]->gdown==3.12.2->flair==0.10) (1.7.1)\n",
            "Requirement already satisfied: mpmath>=0.19 in /usr/local/lib/python3.10/dist-packages (from sympy->torch!=1.8,>=1.5.0->flair==0.10) (1.3.0)\n",
            "Building wheels for collected packages: gdown, mpld3, sentencepiece, sqlitedict, langdetect, overrides\n",
            "  Building wheel for gdown (pyproject.toml) ... \u001b[?25l\u001b[?25hdone\n",
            "  Created wheel for gdown: filename=gdown-3.12.2-py3-none-any.whl size=9674 sha256=9c3ccc6aaa1bb44c32c004dda39b2d43453d12acb1df0fdadfe0990a28d3d0a9\n",
            "  Stored in directory: /root/.cache/pip/wheels/fd/45/ac/c7557ccd8fe79de5da94d7b39b5ca92f22f86a0f85367e2b0a\n",
            "  Building wheel for mpld3 (setup.py) ... \u001b[?25l\u001b[?25hdone\n",
            "  Created wheel for mpld3: filename=mpld3-0.3-py3-none-any.whl size=116686 sha256=ae2f134488db3a7db21d42714880f553e2edf15cb284dd311a2187e07e99da42\n",
            "  Stored in directory: /root/.cache/pip/wheels/9c/92/f7/45d9aac5dcfb1c2a1761a272365599cc7ba1050ce211a3fd9a\n",
            "  Building wheel for sentencepiece (setup.py) ... \u001b[?25l\u001b[?25hdone\n",
            "  Created wheel for sentencepiece: filename=sentencepiece-0.1.95-cp310-cp310-linux_x86_64.whl size=1531294 sha256=6671090af6af796350aa3e0cb29a8c96fd13b641fd5e7bf37c8838cab02850e5\n",
            "  Stored in directory: /root/.cache/pip/wheels/ef/a4/01/5a500fc0c5a38917ef408c245eb40b7ac96f4a30fc6a346a4c\n",
            "  Building wheel for sqlitedict (setup.py) ... \u001b[?25l\u001b[?25hdone\n",
            "  Created wheel for sqlitedict: filename=sqlitedict-2.1.0-py3-none-any.whl size=16863 sha256=eefa6a00bc3623af9c0fb49a2c30d9128bb69b3fe6b6f29ff28182d344e89b1b\n",
            "  Stored in directory: /root/.cache/pip/wheels/79/d6/e7/304e0e6cb2221022c26d8161f7c23cd4f259a9e41e8bbcfabd\n",
            "  Building wheel for langdetect (setup.py) ... \u001b[?25l\u001b[?25hdone\n",
            "  Created wheel for langdetect: filename=langdetect-1.0.9-py3-none-any.whl size=993225 sha256=bf1010d2861bce48e824615d3b3f71b23c8a87c5d4607aa3b176c13cfc4420f9\n",
            "  Stored in directory: /root/.cache/pip/wheels/95/03/7d/59ea870c70ce4e5a370638b5462a7711ab78fba2f655d05106\n",
            "  Building wheel for overrides (setup.py) ... \u001b[?25l\u001b[?25hdone\n",
            "  Created wheel for overrides: filename=overrides-3.1.0-py3-none-any.whl size=10171 sha256=9717e161a7939162daf24cebb5752d95e50004c0eef6d6e45bfacfcf08f0354e\n",
            "  Stored in directory: /root/.cache/pip/wheels/bd/23/63/4d5849844f8f9d32be09e1b9b278e80de2d8314fbf1e28068b\n",
            "Successfully built gdown mpld3 sentencepiece sqlitedict langdetect overrides\n",
            "Installing collected packages: sqlitedict, sentencepiece, overrides, mpld3, janome, segtok, more-itertools, langdetect, importlib-metadata, ftfy, deprecated, conllu, wikipedia-api, konoha, gdown, bpemb, flair\n",
            "  Attempting uninstall: sentencepiece\n",
            "    Found existing installation: sentencepiece 0.1.99\n",
            "    Uninstalling sentencepiece-0.1.99:\n",
            "      Successfully uninstalled sentencepiece-0.1.99\n",
            "  Attempting uninstall: more-itertools\n",
            "    Found existing installation: more-itertools 10.1.0\n",
            "    Uninstalling more-itertools-10.1.0:\n",
            "      Successfully uninstalled more-itertools-10.1.0\n",
            "  Attempting uninstall: importlib-metadata\n",
            "    Found existing installation: importlib-metadata 7.0.1\n",
            "    Uninstalling importlib-metadata-7.0.1:\n",
            "      Successfully uninstalled importlib-metadata-7.0.1\n",
            "  Attempting uninstall: gdown\n",
            "    Found existing installation: gdown 4.7.3\n",
            "    Uninstalling gdown-4.7.3:\n",
            "      Successfully uninstalled gdown-4.7.3\n",
            "\u001b[31mERROR: pip's dependency resolver does not currently take into account all the packages that are installed. This behaviour is the source of the following dependency conflicts.\n",
            "dask 2023.8.1 requires importlib-metadata>=4.13.0, but you have importlib-metadata 3.10.1 which is incompatible.\n",
            "pins 0.8.4 requires importlib-metadata>=4.4, but you have importlib-metadata 3.10.1 which is incompatible.\u001b[0m\u001b[31m\n",
            "\u001b[0mSuccessfully installed bpemb-0.3.4 conllu-4.5.3 deprecated-1.2.14 flair-0.10 ftfy-6.1.3 gdown-3.12.2 importlib-metadata-3.10.1 janome-0.5.0 konoha-4.6.5 langdetect-1.0.9 more-itertools-8.8.0 mpld3-0.3 overrides-3.1.0 segtok-1.5.11 sentencepiece-0.1.95 sqlitedict-2.1.0 wikipedia-api-0.6.0\n"
          ]
        }
      ],
      "source": [
        "# Install the flair library\n",
        "import importlib\n",
        "\n",
        "if importlib.util.find_spec('flair') is None:\n",
        "    !pip install flair==0.10\n",
        "\n",
        "import flair\n",
        "from flair.data import Sentence\n",
        "from flair.embeddings import WordEmbeddings, TransformerWordEmbeddings, TransformerDocumentEmbeddings\n",
        "\n",
        "from sklearn.feature_extraction.text import CountVectorizer\n",
        "from sklearn.linear_model import LogisticRegression\n",
        "from sklearn.metrics import accuracy_score"
      ]
    },
    {
      "cell_type": "code",
      "execution_count": null,
      "metadata": {
        "id": "gP05BXXigv1-",
        "colab": {
          "base_uri": "https://localhost:8080/"
        },
        "outputId": "db0c28f1-fe6e-4266-e710-daa8b235b041"
      },
      "outputs": [
        {
          "output_type": "stream",
          "name": "stdout",
          "text": [
            "Model not found. Downloading.\n",
            "\u001b[38;5;2m✔ Download and installation successful\u001b[0m\n",
            "You can now load the package via spacy.load('en_core_web_md')\n",
            "\u001b[38;5;3m⚠ Restart to reload dependencies\u001b[0m\n",
            "If you are in a Jupyter or Colab notebook, you may need to restart Python in\n",
            "order to load all the package's dependencies. You can do this by selecting the\n",
            "'Restart kernel' or 'Restart runtime' option.\n",
            "There are 326 stop words in spaCy.\n",
            "\n"
          ]
        }
      ],
      "source": [
        "# Additional imports\n",
        "\n",
        "import spacy\n",
        "try:\n",
        "    nlp = spacy.load(\"en_core_web_md\")\n",
        "except OSError:\n",
        "    import spacy.cli\n",
        "    print(\"Model not found. Downloading.\")\n",
        "    spacy.cli.download(\"en_core_web_md\")\n",
        "    import en_core_web_md\n",
        "    nlp = en_core_web_md.load()\n",
        "\n",
        "from spacy.lang.en.stop_words import STOP_WORDS\n",
        "print(\"There are {} stop words in spaCy.\\n\".format(len(STOP_WORDS)))\n",
        "stop_words = spacy.lang.en.stop_words.STOP_WORDS\n",
        "\n",
        "from sklearn.feature_extraction.text import CountVectorizer, TfidfVectorizer\n",
        "\n",
        "import tensorflow as tf\n",
        "import tensorflow_hub as hub\n",
        "\n",
        "from flair.embeddings import ELMoEmbeddings  # Get the ELMo embeddings from flair\n",
        "from sklearn.metrics.pairwise import cosine_similarity\n",
        "\n",
        "import tensorflow as tf\n",
        "import tensorflow_hub as hub\n",
        "import numpy as np\n",
        "from sklearn.metrics.pairwise import cosine_similarity\n",
        "\n",
        "# Load the ELMo model as a Keras Layer\n",
        "elmo_layer = hub.KerasLayer(\"https://tfhub.dev/google/elmo/3\", trainable=False)\n",
        "\n",
        "from sklearn.metrics.pairwise import cosine_similarity\n",
        "\n",
        "import gensim\n",
        "from gensim.models import Word2Vec\n",
        "\n",
        "import itertools\n",
        "\n",
        "from sklearn.metrics import confusion_matrix\n",
        "\n",
        "import matplotlib\n",
        "import matplotlib.pyplot as plt\n",
        "%matplotlib inline\n",
        "\n",
        "import transformers\n",
        "\n",
        "from collections import namedtuple\n",
        "from transformers import AutoConfig, AutoModelForSequenceClassification, AutoTokenizer, EvalPrediction\n",
        "from transformers import (Trainer, TrainingArguments, glue_compute_metrics, glue_output_modes, glue_tasks_num_labels, set_seed, default_data_collator)\n",
        "\n",
        "# Get the ELMo embeddings from flair\n",
        "from flair.embeddings import ELMoEmbeddings\n",
        "\n",
        "import tensorflow_hub as hub\n",
        "\n",
        "from nltk.tokenize import word_tokenize\n",
        "from gensim.models import FastText\n",
        "\n",
        "from sklearn.model_selection import ParameterGrid\n",
        "\n",
        "from tensorflow.keras.models import Sequential\n",
        "from tensorflow.keras.layers import Dense\n",
        "from tensorflow.keras.optimizers import SGD\n"
      ]
    },
    {
      "cell_type": "markdown",
      "metadata": {
        "id": "K3uq9tNPJJM9"
      },
      "source": [
        "<hr />"
      ]
    },
    {
      "cell_type": "markdown",
      "metadata": {
        "id": "PFhWCRX00J55"
      },
      "source": [
        "Input News Article (Selected for Analysis)"
      ]
    },
    {
      "cell_type": "code",
      "execution_count": null,
      "metadata": {
        "id": "7pHaCi6aZ2Wu"
      },
      "outputs": [],
      "source": [
        "input_paragraph = \"The BT Tower might look like a giant sonic screwdriver, but it’s an iconic and beloved part of London’s skyline. In fact, the tower, which was built in 1964, is so loved that it even inspired the Coldplay lyrics: ‘lights will guide you home’. And soon you’ll be able to stay the night inside the legendary structure, as it’s being turned into a hotel. BT Group announced today (February 21) that it will sell the BT Tower for £275 million to MCR Hotels, which will turn the Grade II-listed building into a swanky hotel. MCR will work with London-based architecture firm Heatherwick Studio, which was founded by all-star architect Thomas Heatherwick. Heatherwick, the designer behind Coal Drops Yard, the massive new Google offices and the never realised Garden Bridge, is known for his sleek, futuristic designs that utilise lots of greenery and plants. So the refurbished tower is probably going to look pretty cool.\""
      ]
    },
    {
      "cell_type": "markdown",
      "source": [
        "Tokenization"
      ],
      "metadata": {
        "id": "wzaa2nKF6gI0"
      }
    },
    {
      "cell_type": "code",
      "execution_count": null,
      "metadata": {
        "id": "MyFEfew91k3r",
        "colab": {
          "base_uri": "https://localhost:8080/"
        },
        "outputId": "4679eb87-3a99-4b9a-8bdc-b2808df79c78"
      },
      "outputs": [
        {
          "output_type": "stream",
          "name": "stdout",
          "text": [
            "\n",
            "Example:\n",
            " Pre-processing is useful to most NLP algorithms - it allows us to transform text into a more digestible format for models.\n",
            "\n",
            "Tokenized example:\n",
            " ['Pre', '-', 'processing', 'is', 'useful', 'to', 'most', 'NLP', 'algorithms', '-', 'it', 'allows', 'us', 'to', 'transform', 'text', 'into', 'a', 'more', 'digestible', 'format', 'for', 'models', '.']\n",
            "\n",
            "Example:\n",
            " The BT Tower might look like a giant sonic screwdriver, but it’s an iconic and beloved part of London’s skyline. In fact, the tower, which was built in 1964, is so loved that it even inspired the Coldplay lyrics: ‘lights will guide you home’. And soon you’ll be able to stay the night inside the legendary structure, as it’s being turned into a hotel. BT Group announced today (February 21) that it will sell the BT Tower for £275 million to MCR Hotels, which will turn the Grade II-listed building into a swanky hotel. MCR will work with London-based architecture firm Heatherwick Studio, which was founded by all-star architect Thomas Heatherwick. Heatherwick, the designer behind Coal Drops Yard, the massive new Google offices and the never realised Garden Bridge, is known for his sleek, futuristic designs that utilise lots of greenery and plants. So the refurbished tower is probably going to look pretty cool.\n",
            "\n",
            "Tokenized example:\n",
            " ['The', 'BT', 'Tower', 'might', 'look', 'like', 'a', 'giant', 'sonic', 'screwdriver', ',', 'but', 'it', '’', 's', 'an', 'iconic', 'and', 'beloved', 'part', 'of', 'London', '’', 's', 'skyline', '.', 'In', 'fact', ',', 'the', 'tower', ',', 'which', 'was', 'built', 'in', '1964', ',', 'is', 'so', 'loved', 'that', 'it', 'even', 'inspired', 'the', 'Coldplay', 'lyrics', ': ‘', 'lights', 'will', 'guide', 'you', 'home', '’.', 'And', 'soon', 'you', '’', 'll', 'be', 'able', 'to', 'stay', 'the', 'night', 'inside', 'the', 'legendary', 'structure', ',', 'as', 'it', '’', 's', 'being', 'turned', 'into', 'a', 'hotel', '.', 'BT', 'Group', 'announced', 'today', '(', 'February', '21', ')', 'that', 'it', 'will', 'sell', 'the', 'BT', 'Tower', 'for', '£', '275', 'million', 'to', 'MCR', 'Hotels', ',', 'which', 'will', 'turn', 'the', 'Grade', 'II', '-', 'listed', 'building', 'into', 'a', 'swanky', 'hotel', '.', 'MCR', 'will', 'work', 'with', 'London', '-', 'based', 'architecture', 'firm', 'Heatherwick', 'Studio', ',', 'which', 'was', 'founded', 'by', 'all', '-', 'star', 'architect', 'Thomas', 'Heatherwick', '.', 'Heatherwick', ',', 'the', 'designer', 'behind', 'Coal', 'Drops', 'Yard', ',', 'the', 'massive', 'new', 'Google', 'offices', 'and', 'the', 'never', 'realised', 'Garden', 'Bridge', ',', 'is', 'known', 'for', 'his', 'sleek', ',', 'futuristic', 'designs', 'that', 'utilise', 'lots', 'of', 'greenery', 'and', 'plants', '.', 'So', 'the', 'refurbished', 'tower', 'is', 'probably', 'going', 'to', 'look', 'pretty', 'cool', '.']\n"
          ]
        }
      ],
      "source": [
        "#Tokenize\n",
        "def tokenizer(text: str) -> list:\n",
        "  text = [i.strip() for i in re.split(r'(\\W+)',text) if i.strip()]\n",
        "  return text\n",
        "\n",
        "#Test tokenization function\n",
        "input_text = \"Pre-processing is useful to most NLP algorithms - it allows us to transform text into a more digestible format for models.\"\n",
        "print(\"\\nExample:\\n\", input_text)\n",
        "print(\"\\nTokenized example:\\n\", tokenizer(input_text))\n",
        "\n",
        "def word_tokenize(text: str) -> list:\n",
        "  paragraph = [i.strip() for i in re.split(r'(\\W+)', text) if i.strip()]\n",
        "  return paragraph\n",
        "\n",
        "#Print input paragraph\n",
        "print(\"\\nExample:\\n\", input_paragraph)\n",
        "\n",
        "#Print input paragraph after tokenisation\n",
        "print(\"\\nTokenized example:\\n\", tokenizer(input_paragraph))\n"
      ]
    },
    {
      "cell_type": "markdown",
      "source": [
        "Lemmatisation"
      ],
      "metadata": {
        "id": "eGp6XjsI61Pq"
      }
    },
    {
      "cell_type": "code",
      "execution_count": null,
      "metadata": {
        "id": "vLYn1ar6ZbTR",
        "colab": {
          "base_uri": "https://localhost:8080/"
        },
        "outputId": "cad3e099-3df0-4b18-b6bf-5697f7590943"
      },
      "outputs": [
        {
          "output_type": "stream",
          "name": "stdout",
          "text": [
            "\n",
            "Example:\n",
            " ['The', 'BT', 'Tower', 'might', 'look', 'like', 'a', 'giant', 'sonic', 'screwdriver', ',', 'but', 'it', '’', 's', 'an', 'iconic', 'and', 'beloved', 'part', 'of', 'London', '’', 's', 'skyline', '.', 'In', 'fact', ',', 'the', 'tower', ',', 'which', 'was', 'built', 'in', '1964', ',', 'is', 'so', 'loved', 'that', 'it', 'even', 'inspired', 'the', 'Coldplay', 'lyrics', ': ‘', 'lights', 'will', 'guide', 'you', 'home', '’.', 'And', 'soon', 'you', '’', 'll', 'be', 'able', 'to', 'stay', 'the', 'night', 'inside', 'the', 'legendary', 'structure', ',', 'as', 'it', '’', 's', 'being', 'turned', 'into', 'a', 'hotel', '.', 'BT', 'Group', 'announced', 'today', '(', 'February', '21', ')', 'that', 'it', 'will', 'sell', 'the', 'BT', 'Tower', 'for', '£', '275', 'million', 'to', 'MCR', 'Hotels', ',', 'which', 'will', 'turn', 'the', 'Grade', 'II', '-', 'listed', 'building', 'into', 'a', 'swanky', 'hotel', '.', 'MCR', 'will', 'work', 'with', 'London', '-', 'based', 'architecture', 'firm', 'Heatherwick', 'Studio', ',', 'which', 'was', 'founded', 'by', 'all', '-', 'star', 'architect', 'Thomas', 'Heatherwick', '.', 'Heatherwick', ',', 'the', 'designer', 'behind', 'Coal', 'Drops', 'Yard', ',', 'the', 'massive', 'new', 'Google', 'offices', 'and', 'the', 'never', 'realised', 'Garden', 'Bridge', ',', 'is', 'known', 'for', 'his', 'sleek', ',', 'futuristic', 'designs', 'that', 'utilise', 'lots', 'of', 'greenery', 'and', 'plants', '.', 'So', 'the', 'refurbished', 'tower', 'is', 'probably', 'going', 'to', 'look', 'pretty', 'cool', '.']\n",
            "\n",
            "Tokenized example:\n",
            " the BT Tower might look like a giant sonic screwdriver , but it ’ an iconic and beloved part of London ’s skyline . in fact , the tower , which be build in 1964 , be so loved that it even inspire the coldplay lyric : ' light will guide you home ' . and soon you ’ll be able to stay the night inside the legendary structure , as it ’s be turn into a hotel . BT Group announce today ( February 21 ) that it will sell the BT Tower for £ 275 million to MCR Hotels , which will turn the Grade II - list building into a swanky hotel . MCR will work with London - base architecture firm Heatherwick Studio , which be found by all - star architect Thomas Heatherwick . Heatherwick , the designer behind Coal Drops Yard , the massive new Google office and the never realise Garden Bridge , be know for his sleek , futuristic design that utilise lot of greenery and plant . so the refurbished tower be probably go to look pretty cool .\n"
          ]
        }
      ],
      "source": [
        "#Lemmatize\n",
        "def word_lemmatize(tokens: list) -> list:\n",
        "  #TODO: your code goes here\n",
        "  return \" \".join([token.lemma_ for token in nlp(input_paragraph)])\n",
        "\n",
        "#Testing the function\n",
        "\n",
        "#Print input paragraph\n",
        "print(\"\\nExample:\\n\", tokenizer(input_paragraph))\n",
        "\n",
        "#Print input paragraph's tokens after lemmatization\n",
        "lemm_paragraph = print(\"\\nTokenized example:\\n\", word_lemmatize(input_paragraph))"
      ]
    },
    {
      "cell_type": "markdown",
      "source": [
        "Remove Stopwords"
      ],
      "metadata": {
        "id": "8UWFT9Zb7R1p"
      }
    },
    {
      "cell_type": "code",
      "execution_count": null,
      "metadata": {
        "id": "_GKh0eIF57XB",
        "colab": {
          "base_uri": "https://localhost:8080/"
        },
        "outputId": "dbc78f7d-06cf-465e-f027-ca16e7b48f4e"
      },
      "outputs": [
        {
          "output_type": "stream",
          "name": "stdout",
          "text": [
            "{'on', 'say', 'few', 'during', 'whereas', 'something', 'therefore', 'become', 'except', 'those', 'former', 'their', 'done', 'seem', 'first', 'be', 'her', 'either', '’d', 'just', 'becomes', 'please', 'at', 'whole', 'two', 'them', 'hers', 'ca', 'ten', 'part', 'fifteen', 'am', 'due', 'so', 'hereby', 'beyond', 'unless', 'while', 'whether', 'nobody', 'there', 'formerly', 'whereupon', 'for', 'through', 'nor', 'are', 'others', 'amongst', 'here', 'thereafter', 'serious', 'used', 'noone', \"'m\", 'none', 'were', 'any', 'seemed', 'eleven', 'onto', 'wherever', 'mine', 'namely', 'latter', 'becoming', 'an', 'both', 'thru', 'go', 'over', 'when', \"'ll\", 'whither', 'no', 'doing', 'what', 'you', 'several', 'being', 'too', 'my', 'without', 'ours', 'anyway', 'made', 'around', 'front', 'across', 'among', 'where', 'further', 'until', 'seems', 'only', 'cannot', 'his', 'yourselves', \"'ve\", 'every', '’ll', 'not', 'bottom', 'have', 'myself', 'otherwise', 'because', 'anything', 'might', 'mostly', 'empty', 'however', 'never', 'six', 'n‘t', '‘d', '‘ll', 'together', 'seeming', 'whereby', 'themselves', 'if', 'herein', 'a', 'toward', 're', 'it', 'after', 'same', 'three', 'via', 'forty', 'yet', 'meanwhile', 'already', 'has', 'thereby', 'nevertheless', 'upon', 'thence', 'yours', 'elsewhere', 'hereafter', 'most', 'ourselves', 'behind', 'therein', 'should', 'in', 'everywhere', 'our', 'put', 'they', 'thus', 'us', 'besides', 'about', 'whoever', 'move', 'rather', '‘re', 'somewhere', 'indeed', 'sixty', 'and', 'twenty', 'whereafter', 'call', \"n't\", 'also', 'another', 'but', 'side', 'well', 'into', 'we', 'sometimes', 'anyhow', 'nowhere', 'this', 'even', 'itself', 'many', 'who', 'within', 'using', 'quite', 'is', 'would', 'as', 'down', 'almost', 'show', 'less', 'such', 'next', 'ever', 'the', 'anyone', 'these', 'sometime', 'that', 'perhaps', 'last', 'your', 'anywhere', 'must', 'than', 'its', 'throughout', 'twelve', 'nine', 'moreover', 'been', 'latterly', 'still', 'eight', \"'d\", 'she', 'neither', 'below', 'some', \"'s\", 'does', 'though', 'take', 'along', 'alone', 'other', '‘ve', 'somehow', 'can', 'whatever', 'someone', '‘s', 'once', 'had', 'all', 'thereupon', 'him', 'hundred', 'why', 'himself', 'hence', 'back', 'always', 'against', 'again', 'third', '’re', 'more', 'give', 'between', 'much', 'fifty', 'up', 'me', 'often', 'regarding', 'although', 'since', 'wherein', 'see', 'five', 'then', 'four', 'did', '’s', 'whence', 'n’t', 'everything', '’ve', \"'re\", 'one', 'make', 'get', 'off', '‘m', 'now', 'of', 'afterwards', 'became', 'towards', 'which', 'beside', 'could', 'hereupon', 'really', 'various', 'everyone', 'by', 'enough', 'out', 'own', 'was', 'above', 'nothing', 'under', '’m', 'else', 'from', 'top', 'to', 'herself', 'whom', 'yourself', 'with', 'before', 'beforehand', 'full', 'whose', 'very', 'amount', 'whenever', 'may', 'will', 'he', 'or', 'per', 'i', 'each', 'keep', 'least', 'name', 'do', 'how'}\n",
            "The BT Tower might look like a giant sonic screwdriver, but it’s an iconic and beloved part of London’s skyline. In fact, the tower, which was built in 1964, is so loved that it even inspired the Coldplay lyrics: ‘lights will guide you home’. And soon you’ll be able to stay the night inside the legendary structure, as it’s being turned into a hotel. BT Group announced today (February 21) that it will sell the BT Tower for £275 million to MCR Hotels, which will turn the Grade II-listed building into a swanky hotel. MCR will work with London-based architecture firm Heatherwick Studio, which was founded by all-star architect Thomas Heatherwick. Heatherwick, the designer behind Coal Drops Yard, the massive new Google offices and the never realised Garden Bridge, is known for his sleek, futuristic designs that utilise lots of greenery and plants. So the refurbished tower is probably going to look pretty cool.\n",
            "['the', 'BT', 'Tower', 'might', 'look', 'like', 'a', 'giant', 'sonic', 'screwdriver', ',', 'but', 'it', '’', 'an', 'iconic', 'and', 'beloved', 'part', 'of', 'London', '’', 's', 'skyline', '.', 'in', 'fact', ',', 'the', 'tower', ',', 'which', 'be', 'build', 'in', '1964', ',', 'be', 'so', 'loved', 'that', 'it', 'even', 'inspire', 'the', 'coldplay', 'lyric', \": '\", 'light', 'will', 'guide', 'you', 'home', \"' .\", 'and', 'soon', 'you', '’', 'll', 'be', 'able', 'to', 'stay', 'the', 'night', 'inside', 'the', 'legendary', 'structure', ',', 'as', 'it', '’', 's', 'be', 'turn', 'into', 'a', 'hotel', '.', 'BT', 'Group', 'announce', 'today', '(', 'February', '21', ')', 'that', 'it', 'will', 'sell', 'the', 'BT', 'Tower', 'for', '£', '275', 'million', 'to', 'MCR', 'Hotels', ',', 'which', 'will', 'turn', 'the', 'Grade', 'II', '-', 'list', 'building', 'into', 'a', 'swanky', 'hotel', '.', 'MCR', 'will', 'work', 'with', 'London', '-', 'base', 'architecture', 'firm', 'Heatherwick', 'Studio', ',', 'which', 'be', 'found', 'by', 'all', '-', 'star', 'architect', 'Thomas', 'Heatherwick', '.', 'Heatherwick', ',', 'the', 'designer', 'behind', 'Coal', 'Drops', 'Yard', ',', 'the', 'massive', 'new', 'Google', 'office', 'and', 'the', 'never', 'realise', 'Garden', 'Bridge', ',', 'be', 'know', 'for', 'his', 'sleek', ',', 'futuristic', 'design', 'that', 'utilise', 'lot', 'of', 'greenery', 'and', 'plant', '.', 'so', 'the', 'refurbished', 'tower', 'be', 'probably', 'go', 'to', 'look', 'pretty', 'cool', '.']\n",
            "\n",
            "Example:\n",
            " the BT Tower might look like a giant sonic screwdriver , but it ’ an iconic and beloved part of London ’s skyline . in fact , the tower , which be build in 1964 , be so loved that it even inspire the coldplay lyric : ' light will guide you home ' . and soon you ’ll be able to stay the night inside the legendary structure , as it ’s be turn into a hotel . BT Group announce today ( February 21 ) that it will sell the BT Tower for £ 275 million to MCR Hotels , which will turn the Grade II - list building into a swanky hotel . MCR will work with London - base architecture firm Heatherwick Studio , which be found by all - star architect Thomas Heatherwick . Heatherwick , the designer behind Coal Drops Yard , the massive new Google office and the never realise Garden Bridge , be know for his sleek , futuristic design that utilise lot of greenery and plant . so the refurbished tower be probably go to look pretty cool .\n",
            "\n",
            "Tokenized example:\n",
            " ['BT', 'Tower', 'look', 'like', 'giant', 'sonic', 'screwdriver', ',', '’', 'iconic', 'beloved', 'London', '’', 's', 'skyline', '.', 'fact', ',', 'tower', ',', 'build', '1964', ',', 'loved', 'inspire', 'coldplay', 'lyric', \": '\", 'light', 'guide', 'home', \"' .\", 'soon', '’', 'll', 'able', 'stay', 'night', 'inside', 'legendary', 'structure', ',', '’', 's', 'turn', 'hotel', '.', 'BT', 'Group', 'announce', 'today', '(', 'February', '21', ')', 'sell', 'BT', 'Tower', '£', '275', 'million', 'MCR', 'Hotels', ',', 'turn', 'Grade', 'II', '-', 'list', 'building', 'swanky', 'hotel', '.', 'MCR', 'work', 'London', '-', 'base', 'architecture', 'firm', 'Heatherwick', 'Studio', ',', 'found', '-', 'star', 'architect', 'Thomas', 'Heatherwick', '.', 'Heatherwick', ',', 'designer', 'Coal', 'Drops', 'Yard', ',', 'massive', 'new', 'Google', 'office', 'realise', 'Garden', 'Bridge', ',', 'know', 'sleek', ',', 'futuristic', 'design', 'utilise', 'lot', 'greenery', 'plant', '.', 'refurbished', 'tower', 'probably', 'look', 'pretty', 'cool', '.']\n"
          ]
        }
      ],
      "source": [
        "#Stopword Function\n",
        "print(stop_words)\n",
        "print(input_paragraph)\n",
        "lemm_paragraph = tokenizer(word_lemmatize(lemm_paragraph))\n",
        "print(lemm_paragraph)\n",
        "\n",
        "def remove_stopwords(tokens: list) -> list:\n",
        "  stop_paragraph = [word for word in lemm_paragraph if word not in stop_words]\n",
        "  return stop_paragraph\n",
        "\n",
        "# Testing the function\n",
        "\n",
        "#Print input paragraph's tokens\n",
        "print(\"\\nExample:\\n\", word_lemmatize(input_paragraph))\n",
        "\n",
        "#Print input paragraph's tokens after stopword function\n",
        "print(\"\\nTokenized example:\\n\", remove_stopwords(input_paragraph))"
      ]
    },
    {
      "cell_type": "markdown",
      "source": [
        "Feature Exploration"
      ],
      "metadata": {
        "id": "iS60HKtQ9HVr"
      }
    },
    {
      "cell_type": "code",
      "execution_count": null,
      "metadata": {
        "colab": {
          "base_uri": "https://localhost:8080/",
          "height": 380
        },
        "id": "2q2YRPFO-lO7",
        "outputId": "f9742fd0-f760-45ec-b0a5-2c69db77d834"
      },
      "outputs": [
        {
          "output_type": "execute_result",
          "data": {
            "text/plain": [
              "                                                                                                                                                sentence  \\\n",
              "0                                                                                                           hide new secretions from the parental units    \n",
              "1                                                                                                                   contains no wit , only labored gags    \n",
              "2                                                              that loves its characters and communicates something rather beautiful about human nature    \n",
              "3                                                                                               remains utterly satisfied to remain the same throughout    \n",
              "4                                                                              on the worst revenge-of-the-nerds clichés the filmmakers could dredge up    \n",
              "5                                                                                            that 's far too tragic to merit such superficial treatment    \n",
              "6  demonstrates that the director of such hollywood blockbusters as patriot games can still turn out a small , personal film with an emotional wallop .    \n",
              "7                                                                                                                                              of saucy    \n",
              "8                                                                                                       a depressed fifteen-year-old 's suicidal poetry    \n",
              "9                                                                                 are more deeply thought through than in most ` right-thinking ' films    \n",
              "\n",
              "   label  \n",
              "0      0  \n",
              "1      0  \n",
              "2      1  \n",
              "3      0  \n",
              "4      0  \n",
              "5      0  \n",
              "6      1  \n",
              "7      1  \n",
              "8      0  \n",
              "9      1  "
            ],
            "text/html": [
              "\n",
              "  <div id=\"df-f7048fb3-9aca-4bd9-9ee2-51a828424343\" class=\"colab-df-container\">\n",
              "    <div>\n",
              "<style scoped>\n",
              "    .dataframe tbody tr th:only-of-type {\n",
              "        vertical-align: middle;\n",
              "    }\n",
              "\n",
              "    .dataframe tbody tr th {\n",
              "        vertical-align: top;\n",
              "    }\n",
              "\n",
              "    .dataframe thead th {\n",
              "        text-align: right;\n",
              "    }\n",
              "</style>\n",
              "<table border=\"1\" class=\"dataframe\">\n",
              "  <thead>\n",
              "    <tr style=\"text-align: right;\">\n",
              "      <th></th>\n",
              "      <th>sentence</th>\n",
              "      <th>label</th>\n",
              "    </tr>\n",
              "  </thead>\n",
              "  <tbody>\n",
              "    <tr>\n",
              "      <th>0</th>\n",
              "      <td>hide new secretions from the parental units</td>\n",
              "      <td>0</td>\n",
              "    </tr>\n",
              "    <tr>\n",
              "      <th>1</th>\n",
              "      <td>contains no wit , only labored gags</td>\n",
              "      <td>0</td>\n",
              "    </tr>\n",
              "    <tr>\n",
              "      <th>2</th>\n",
              "      <td>that loves its characters and communicates something rather beautiful about human nature</td>\n",
              "      <td>1</td>\n",
              "    </tr>\n",
              "    <tr>\n",
              "      <th>3</th>\n",
              "      <td>remains utterly satisfied to remain the same throughout</td>\n",
              "      <td>0</td>\n",
              "    </tr>\n",
              "    <tr>\n",
              "      <th>4</th>\n",
              "      <td>on the worst revenge-of-the-nerds clichés the filmmakers could dredge up</td>\n",
              "      <td>0</td>\n",
              "    </tr>\n",
              "    <tr>\n",
              "      <th>5</th>\n",
              "      <td>that 's far too tragic to merit such superficial treatment</td>\n",
              "      <td>0</td>\n",
              "    </tr>\n",
              "    <tr>\n",
              "      <th>6</th>\n",
              "      <td>demonstrates that the director of such hollywood blockbusters as patriot games can still turn out a small , personal film with an emotional wallop .</td>\n",
              "      <td>1</td>\n",
              "    </tr>\n",
              "    <tr>\n",
              "      <th>7</th>\n",
              "      <td>of saucy</td>\n",
              "      <td>1</td>\n",
              "    </tr>\n",
              "    <tr>\n",
              "      <th>8</th>\n",
              "      <td>a depressed fifteen-year-old 's suicidal poetry</td>\n",
              "      <td>0</td>\n",
              "    </tr>\n",
              "    <tr>\n",
              "      <th>9</th>\n",
              "      <td>are more deeply thought through than in most ` right-thinking ' films</td>\n",
              "      <td>1</td>\n",
              "    </tr>\n",
              "  </tbody>\n",
              "</table>\n",
              "</div>\n",
              "    <div class=\"colab-df-buttons\">\n",
              "\n",
              "  <div class=\"colab-df-container\">\n",
              "    <button class=\"colab-df-convert\" onclick=\"convertToInteractive('df-f7048fb3-9aca-4bd9-9ee2-51a828424343')\"\n",
              "            title=\"Convert this dataframe to an interactive table.\"\n",
              "            style=\"display:none;\">\n",
              "\n",
              "  <svg xmlns=\"http://www.w3.org/2000/svg\" height=\"24px\" viewBox=\"0 -960 960 960\">\n",
              "    <path d=\"M120-120v-720h720v720H120Zm60-500h600v-160H180v160Zm220 220h160v-160H400v160Zm0 220h160v-160H400v160ZM180-400h160v-160H180v160Zm440 0h160v-160H620v160ZM180-180h160v-160H180v160Zm440 0h160v-160H620v160Z\"/>\n",
              "  </svg>\n",
              "    </button>\n",
              "\n",
              "  <style>\n",
              "    .colab-df-container {\n",
              "      display:flex;\n",
              "      gap: 12px;\n",
              "    }\n",
              "\n",
              "    .colab-df-convert {\n",
              "      background-color: #E8F0FE;\n",
              "      border: none;\n",
              "      border-radius: 50%;\n",
              "      cursor: pointer;\n",
              "      display: none;\n",
              "      fill: #1967D2;\n",
              "      height: 32px;\n",
              "      padding: 0 0 0 0;\n",
              "      width: 32px;\n",
              "    }\n",
              "\n",
              "    .colab-df-convert:hover {\n",
              "      background-color: #E2EBFA;\n",
              "      box-shadow: 0px 1px 2px rgba(60, 64, 67, 0.3), 0px 1px 3px 1px rgba(60, 64, 67, 0.15);\n",
              "      fill: #174EA6;\n",
              "    }\n",
              "\n",
              "    .colab-df-buttons div {\n",
              "      margin-bottom: 4px;\n",
              "    }\n",
              "\n",
              "    [theme=dark] .colab-df-convert {\n",
              "      background-color: #3B4455;\n",
              "      fill: #D2E3FC;\n",
              "    }\n",
              "\n",
              "    [theme=dark] .colab-df-convert:hover {\n",
              "      background-color: #434B5C;\n",
              "      box-shadow: 0px 1px 3px 1px rgba(0, 0, 0, 0.15);\n",
              "      filter: drop-shadow(0px 1px 2px rgba(0, 0, 0, 0.3));\n",
              "      fill: #FFFFFF;\n",
              "    }\n",
              "  </style>\n",
              "\n",
              "    <script>\n",
              "      const buttonEl =\n",
              "        document.querySelector('#df-f7048fb3-9aca-4bd9-9ee2-51a828424343 button.colab-df-convert');\n",
              "      buttonEl.style.display =\n",
              "        google.colab.kernel.accessAllowed ? 'block' : 'none';\n",
              "\n",
              "      async function convertToInteractive(key) {\n",
              "        const element = document.querySelector('#df-f7048fb3-9aca-4bd9-9ee2-51a828424343');\n",
              "        const dataTable =\n",
              "          await google.colab.kernel.invokeFunction('convertToInteractive',\n",
              "                                                    [key], {});\n",
              "        if (!dataTable) return;\n",
              "\n",
              "        const docLinkHtml = 'Like what you see? Visit the ' +\n",
              "          '<a target=\"_blank\" href=https://colab.research.google.com/notebooks/data_table.ipynb>data table notebook</a>'\n",
              "          + ' to learn more about interactive tables.';\n",
              "        element.innerHTML = '';\n",
              "        dataTable['output_type'] = 'display_data';\n",
              "        await google.colab.output.renderOutput(dataTable, element);\n",
              "        const docLink = document.createElement('div');\n",
              "        docLink.innerHTML = docLinkHtml;\n",
              "        element.appendChild(docLink);\n",
              "      }\n",
              "    </script>\n",
              "  </div>\n",
              "\n",
              "\n",
              "<div id=\"df-05f480c7-ec3c-4b71-95f8-1018e55cbd65\">\n",
              "  <button class=\"colab-df-quickchart\" onclick=\"quickchart('df-05f480c7-ec3c-4b71-95f8-1018e55cbd65')\"\n",
              "            title=\"Suggest charts\"\n",
              "            style=\"display:none;\">\n",
              "\n",
              "<svg xmlns=\"http://www.w3.org/2000/svg\" height=\"24px\"viewBox=\"0 0 24 24\"\n",
              "     width=\"24px\">\n",
              "    <g>\n",
              "        <path d=\"M19 3H5c-1.1 0-2 .9-2 2v14c0 1.1.9 2 2 2h14c1.1 0 2-.9 2-2V5c0-1.1-.9-2-2-2zM9 17H7v-7h2v7zm4 0h-2V7h2v10zm4 0h-2v-4h2v4z\"/>\n",
              "    </g>\n",
              "</svg>\n",
              "  </button>\n",
              "\n",
              "<style>\n",
              "  .colab-df-quickchart {\n",
              "      --bg-color: #E8F0FE;\n",
              "      --fill-color: #1967D2;\n",
              "      --hover-bg-color: #E2EBFA;\n",
              "      --hover-fill-color: #174EA6;\n",
              "      --disabled-fill-color: #AAA;\n",
              "      --disabled-bg-color: #DDD;\n",
              "  }\n",
              "\n",
              "  [theme=dark] .colab-df-quickchart {\n",
              "      --bg-color: #3B4455;\n",
              "      --fill-color: #D2E3FC;\n",
              "      --hover-bg-color: #434B5C;\n",
              "      --hover-fill-color: #FFFFFF;\n",
              "      --disabled-bg-color: #3B4455;\n",
              "      --disabled-fill-color: #666;\n",
              "  }\n",
              "\n",
              "  .colab-df-quickchart {\n",
              "    background-color: var(--bg-color);\n",
              "    border: none;\n",
              "    border-radius: 50%;\n",
              "    cursor: pointer;\n",
              "    display: none;\n",
              "    fill: var(--fill-color);\n",
              "    height: 32px;\n",
              "    padding: 0;\n",
              "    width: 32px;\n",
              "  }\n",
              "\n",
              "  .colab-df-quickchart:hover {\n",
              "    background-color: var(--hover-bg-color);\n",
              "    box-shadow: 0 1px 2px rgba(60, 64, 67, 0.3), 0 1px 3px 1px rgba(60, 64, 67, 0.15);\n",
              "    fill: var(--button-hover-fill-color);\n",
              "  }\n",
              "\n",
              "  .colab-df-quickchart-complete:disabled,\n",
              "  .colab-df-quickchart-complete:disabled:hover {\n",
              "    background-color: var(--disabled-bg-color);\n",
              "    fill: var(--disabled-fill-color);\n",
              "    box-shadow: none;\n",
              "  }\n",
              "\n",
              "  .colab-df-spinner {\n",
              "    border: 2px solid var(--fill-color);\n",
              "    border-color: transparent;\n",
              "    border-bottom-color: var(--fill-color);\n",
              "    animation:\n",
              "      spin 1s steps(1) infinite;\n",
              "  }\n",
              "\n",
              "  @keyframes spin {\n",
              "    0% {\n",
              "      border-color: transparent;\n",
              "      border-bottom-color: var(--fill-color);\n",
              "      border-left-color: var(--fill-color);\n",
              "    }\n",
              "    20% {\n",
              "      border-color: transparent;\n",
              "      border-left-color: var(--fill-color);\n",
              "      border-top-color: var(--fill-color);\n",
              "    }\n",
              "    30% {\n",
              "      border-color: transparent;\n",
              "      border-left-color: var(--fill-color);\n",
              "      border-top-color: var(--fill-color);\n",
              "      border-right-color: var(--fill-color);\n",
              "    }\n",
              "    40% {\n",
              "      border-color: transparent;\n",
              "      border-right-color: var(--fill-color);\n",
              "      border-top-color: var(--fill-color);\n",
              "    }\n",
              "    60% {\n",
              "      border-color: transparent;\n",
              "      border-right-color: var(--fill-color);\n",
              "    }\n",
              "    80% {\n",
              "      border-color: transparent;\n",
              "      border-right-color: var(--fill-color);\n",
              "      border-bottom-color: var(--fill-color);\n",
              "    }\n",
              "    90% {\n",
              "      border-color: transparent;\n",
              "      border-bottom-color: var(--fill-color);\n",
              "    }\n",
              "  }\n",
              "</style>\n",
              "\n",
              "  <script>\n",
              "    async function quickchart(key) {\n",
              "      const quickchartButtonEl =\n",
              "        document.querySelector('#' + key + ' button');\n",
              "      quickchartButtonEl.disabled = true;  // To prevent multiple clicks.\n",
              "      quickchartButtonEl.classList.add('colab-df-spinner');\n",
              "      try {\n",
              "        const charts = await google.colab.kernel.invokeFunction(\n",
              "            'suggestCharts', [key], {});\n",
              "      } catch (error) {\n",
              "        console.error('Error during call to suggestCharts:', error);\n",
              "      }\n",
              "      quickchartButtonEl.classList.remove('colab-df-spinner');\n",
              "      quickchartButtonEl.classList.add('colab-df-quickchart-complete');\n",
              "    }\n",
              "    (() => {\n",
              "      let quickchartButtonEl =\n",
              "        document.querySelector('#df-05f480c7-ec3c-4b71-95f8-1018e55cbd65 button');\n",
              "      quickchartButtonEl.style.display =\n",
              "        google.colab.kernel.accessAllowed ? 'block' : 'none';\n",
              "    })();\n",
              "  </script>\n",
              "</div>\n",
              "    </div>\n",
              "  </div>\n"
            ],
            "application/vnd.google.colaboratory.intrinsic+json": {
              "type": "dataframe",
              "summary": "{\n  \"name\": \"df_train[:10]\",\n  \"rows\": 10,\n  \"fields\": [\n    {\n      \"column\": \"sentence\",\n      \"properties\": {\n        \"dtype\": \"string\",\n        \"num_unique_values\": 10,\n        \"samples\": [\n          \"a depressed fifteen-year-old 's suicidal poetry \",\n          \"contains no wit , only labored gags \",\n          \"that 's far too tragic to merit such superficial treatment \"\n        ],\n        \"semantic_type\": \"\",\n        \"description\": \"\"\n      }\n    },\n    {\n      \"column\": \"label\",\n      \"properties\": {\n        \"dtype\": \"number\",\n        \"std\": 0,\n        \"min\": 0,\n        \"max\": 1,\n        \"num_unique_values\": 2,\n        \"samples\": [\n          1,\n          0\n        ],\n        \"semantic_type\": \"\",\n        \"description\": \"\"\n      }\n    }\n  ]\n}"
            }
          },
          "metadata": {},
          "execution_count": 8
        }
      ],
      "source": [
        "# Loads the SST-2 dataset\n",
        "\n",
        "# Test and train paths\n",
        "path_train = \"train.tsv\"\n",
        "path_dev = \"dev.tsv\"\n",
        "\n",
        "# Load the train and dev data\n",
        "df_train = pd.read_csv(path_train, sep='\\t')\n",
        "df_dev = pd.read_csv(path_dev, sep='\\t')\n",
        "\n",
        "# Split df_dev into a validation and test set\n",
        "df_dev, df_test = df_dev[:400], df_dev[400:]\n",
        "\n",
        "# Observe training data\n",
        "pd.set_option('max_colwidth', 1000)\n",
        "df_train[:10]"
      ]
    },
    {
      "cell_type": "markdown",
      "source": [
        "Create and Test 'Positive' Word Identifier Function"
      ],
      "metadata": {
        "id": "WuXDff_f-X3g"
      }
    },
    {
      "cell_type": "code",
      "execution_count": null,
      "metadata": {
        "colab": {
          "base_uri": "https://localhost:8080/"
        },
        "id": "1XPML_co-lME",
        "outputId": "35ae0f1d-858f-4cde-d988-02bc44f5b7c6"
      },
      "outputs": [
        {
          "output_type": "stream",
          "name": "stdout",
          "text": [
            "that loves its characters and communicates something rather beautiful about human nature\n",
            "0\n",
            "I love NLP\n",
            "1\n"
          ]
        }
      ],
      "source": [
        "#Create 'positive' identifier function\n",
        "def is_good(text: str) -> int:\n",
        "  good_words = ['good', 'nice', 'love', 'fantastic']\n",
        "  input_tokenized = tokenizer(text)\n",
        "  for word in good_words:\n",
        "    if word in input_tokenized:\n",
        "      return 1\n",
        "  else:\n",
        "    return 0\n",
        "\n",
        "input_text = \"that loves its characters and communicates something rather beautiful about human nature\"\n",
        "print(input_text)\n",
        "# Test and print 0\n",
        "print(is_good(input_text))\n",
        "\n",
        "input_text = \"I love NLP\"\n",
        "print(input_text)\n",
        "# Test and print 1\n",
        "print(is_good(input_text))"
      ]
    },
    {
      "cell_type": "markdown",
      "source": [
        "Create and Test 'Negative' Word Identifier Function"
      ],
      "metadata": {
        "id": "pOorvizb_ZXd"
      }
    },
    {
      "cell_type": "code",
      "execution_count": null,
      "metadata": {
        "colab": {
          "base_uri": "https://localhost:8080/"
        },
        "id": "GJwEKb1p-lJp",
        "outputId": "3537f49a-38c1-4044-8e5b-0f80835f398b"
      },
      "outputs": [
        {
          "output_type": "stream",
          "name": "stdout",
          "text": [
            "that loves its characters and communicates something rather beautiful about human nature\n",
            "0\n",
            "lockdowns can be boring but learning NLP totally makes up for it\n",
            "1\n"
          ]
        }
      ],
      "source": [
        "#Create 'negative' identifier function\n",
        "def is_bad(text: str) -> int:\n",
        "  bad_words = ['bad', 'ugly', 'boring', 'sad']\n",
        "  input_tokenized = tokenizer(text)\n",
        "  for word in bad_words:\n",
        "    if word in input_tokenized:\n",
        "      return 1\n",
        "  else:\n",
        "    return 0\n",
        "\n",
        "input_text = \"that loves its characters and communicates something rather beautiful about human nature\"\n",
        "print(input_text)\n",
        "# Test and print 0\n",
        "print(is_bad(input_text))\n",
        "\n",
        "input_text = \"lockdowns can be boring but learning NLP totally makes up for it\"\n",
        "print(input_text)\n",
        "# Test and print 1\n",
        "print(is_bad(input_text))"
      ]
    },
    {
      "cell_type": "markdown",
      "source": [
        "Logistic Regression Model: Using Positive and Negative Identifier Functions"
      ],
      "metadata": {
        "id": "Dh17RK4EAIWp"
      }
    },
    {
      "cell_type": "code",
      "execution_count": null,
      "metadata": {
        "id": "lhI3pnF_yiMO",
        "colab": {
          "base_uri": "https://localhost:8080/",
          "height": 520
        },
        "outputId": "8cec8525-d18d-4d46-8b5e-68f141f633ec"
      },
      "outputs": [
        {
          "output_type": "execute_result",
          "data": {
            "text/plain": [
              "     X1  X2  label\n",
              "400   0   0      1\n",
              "401   0   0      1\n",
              "402   1   0      0\n",
              "403   0   0      0\n",
              "404   0   0      1\n",
              "405   1   0      0\n",
              "406   0   0      1\n",
              "407   0   0      0\n",
              "408   0   0      0\n",
              "409   0   0      0\n",
              "410   0   0      1\n",
              "411   0   0      0\n",
              "412   0   1      0\n",
              "413   0   0      0\n",
              "414   0   0      1"
            ],
            "text/html": [
              "\n",
              "  <div id=\"df-a69d698e-481a-4596-b107-12dd1ecc6517\" class=\"colab-df-container\">\n",
              "    <div>\n",
              "<style scoped>\n",
              "    .dataframe tbody tr th:only-of-type {\n",
              "        vertical-align: middle;\n",
              "    }\n",
              "\n",
              "    .dataframe tbody tr th {\n",
              "        vertical-align: top;\n",
              "    }\n",
              "\n",
              "    .dataframe thead th {\n",
              "        text-align: right;\n",
              "    }\n",
              "</style>\n",
              "<table border=\"1\" class=\"dataframe\">\n",
              "  <thead>\n",
              "    <tr style=\"text-align: right;\">\n",
              "      <th></th>\n",
              "      <th>X1</th>\n",
              "      <th>X2</th>\n",
              "      <th>label</th>\n",
              "    </tr>\n",
              "  </thead>\n",
              "  <tbody>\n",
              "    <tr>\n",
              "      <th>400</th>\n",
              "      <td>0</td>\n",
              "      <td>0</td>\n",
              "      <td>1</td>\n",
              "    </tr>\n",
              "    <tr>\n",
              "      <th>401</th>\n",
              "      <td>0</td>\n",
              "      <td>0</td>\n",
              "      <td>1</td>\n",
              "    </tr>\n",
              "    <tr>\n",
              "      <th>402</th>\n",
              "      <td>1</td>\n",
              "      <td>0</td>\n",
              "      <td>0</td>\n",
              "    </tr>\n",
              "    <tr>\n",
              "      <th>403</th>\n",
              "      <td>0</td>\n",
              "      <td>0</td>\n",
              "      <td>0</td>\n",
              "    </tr>\n",
              "    <tr>\n",
              "      <th>404</th>\n",
              "      <td>0</td>\n",
              "      <td>0</td>\n",
              "      <td>1</td>\n",
              "    </tr>\n",
              "    <tr>\n",
              "      <th>405</th>\n",
              "      <td>1</td>\n",
              "      <td>0</td>\n",
              "      <td>0</td>\n",
              "    </tr>\n",
              "    <tr>\n",
              "      <th>406</th>\n",
              "      <td>0</td>\n",
              "      <td>0</td>\n",
              "      <td>1</td>\n",
              "    </tr>\n",
              "    <tr>\n",
              "      <th>407</th>\n",
              "      <td>0</td>\n",
              "      <td>0</td>\n",
              "      <td>0</td>\n",
              "    </tr>\n",
              "    <tr>\n",
              "      <th>408</th>\n",
              "      <td>0</td>\n",
              "      <td>0</td>\n",
              "      <td>0</td>\n",
              "    </tr>\n",
              "    <tr>\n",
              "      <th>409</th>\n",
              "      <td>0</td>\n",
              "      <td>0</td>\n",
              "      <td>0</td>\n",
              "    </tr>\n",
              "    <tr>\n",
              "      <th>410</th>\n",
              "      <td>0</td>\n",
              "      <td>0</td>\n",
              "      <td>1</td>\n",
              "    </tr>\n",
              "    <tr>\n",
              "      <th>411</th>\n",
              "      <td>0</td>\n",
              "      <td>0</td>\n",
              "      <td>0</td>\n",
              "    </tr>\n",
              "    <tr>\n",
              "      <th>412</th>\n",
              "      <td>0</td>\n",
              "      <td>1</td>\n",
              "      <td>0</td>\n",
              "    </tr>\n",
              "    <tr>\n",
              "      <th>413</th>\n",
              "      <td>0</td>\n",
              "      <td>0</td>\n",
              "      <td>0</td>\n",
              "    </tr>\n",
              "    <tr>\n",
              "      <th>414</th>\n",
              "      <td>0</td>\n",
              "      <td>0</td>\n",
              "      <td>1</td>\n",
              "    </tr>\n",
              "  </tbody>\n",
              "</table>\n",
              "</div>\n",
              "    <div class=\"colab-df-buttons\">\n",
              "\n",
              "  <div class=\"colab-df-container\">\n",
              "    <button class=\"colab-df-convert\" onclick=\"convertToInteractive('df-a69d698e-481a-4596-b107-12dd1ecc6517')\"\n",
              "            title=\"Convert this dataframe to an interactive table.\"\n",
              "            style=\"display:none;\">\n",
              "\n",
              "  <svg xmlns=\"http://www.w3.org/2000/svg\" height=\"24px\" viewBox=\"0 -960 960 960\">\n",
              "    <path d=\"M120-120v-720h720v720H120Zm60-500h600v-160H180v160Zm220 220h160v-160H400v160Zm0 220h160v-160H400v160ZM180-400h160v-160H180v160Zm440 0h160v-160H620v160ZM180-180h160v-160H180v160Zm440 0h160v-160H620v160Z\"/>\n",
              "  </svg>\n",
              "    </button>\n",
              "\n",
              "  <style>\n",
              "    .colab-df-container {\n",
              "      display:flex;\n",
              "      gap: 12px;\n",
              "    }\n",
              "\n",
              "    .colab-df-convert {\n",
              "      background-color: #E8F0FE;\n",
              "      border: none;\n",
              "      border-radius: 50%;\n",
              "      cursor: pointer;\n",
              "      display: none;\n",
              "      fill: #1967D2;\n",
              "      height: 32px;\n",
              "      padding: 0 0 0 0;\n",
              "      width: 32px;\n",
              "    }\n",
              "\n",
              "    .colab-df-convert:hover {\n",
              "      background-color: #E2EBFA;\n",
              "      box-shadow: 0px 1px 2px rgba(60, 64, 67, 0.3), 0px 1px 3px 1px rgba(60, 64, 67, 0.15);\n",
              "      fill: #174EA6;\n",
              "    }\n",
              "\n",
              "    .colab-df-buttons div {\n",
              "      margin-bottom: 4px;\n",
              "    }\n",
              "\n",
              "    [theme=dark] .colab-df-convert {\n",
              "      background-color: #3B4455;\n",
              "      fill: #D2E3FC;\n",
              "    }\n",
              "\n",
              "    [theme=dark] .colab-df-convert:hover {\n",
              "      background-color: #434B5C;\n",
              "      box-shadow: 0px 1px 3px 1px rgba(0, 0, 0, 0.15);\n",
              "      filter: drop-shadow(0px 1px 2px rgba(0, 0, 0, 0.3));\n",
              "      fill: #FFFFFF;\n",
              "    }\n",
              "  </style>\n",
              "\n",
              "    <script>\n",
              "      const buttonEl =\n",
              "        document.querySelector('#df-a69d698e-481a-4596-b107-12dd1ecc6517 button.colab-df-convert');\n",
              "      buttonEl.style.display =\n",
              "        google.colab.kernel.accessAllowed ? 'block' : 'none';\n",
              "\n",
              "      async function convertToInteractive(key) {\n",
              "        const element = document.querySelector('#df-a69d698e-481a-4596-b107-12dd1ecc6517');\n",
              "        const dataTable =\n",
              "          await google.colab.kernel.invokeFunction('convertToInteractive',\n",
              "                                                    [key], {});\n",
              "        if (!dataTable) return;\n",
              "\n",
              "        const docLinkHtml = 'Like what you see? Visit the ' +\n",
              "          '<a target=\"_blank\" href=https://colab.research.google.com/notebooks/data_table.ipynb>data table notebook</a>'\n",
              "          + ' to learn more about interactive tables.';\n",
              "        element.innerHTML = '';\n",
              "        dataTable['output_type'] = 'display_data';\n",
              "        await google.colab.output.renderOutput(dataTable, element);\n",
              "        const docLink = document.createElement('div');\n",
              "        docLink.innerHTML = docLinkHtml;\n",
              "        element.appendChild(docLink);\n",
              "      }\n",
              "    </script>\n",
              "  </div>\n",
              "\n",
              "\n",
              "<div id=\"df-b889c4df-0483-4dd8-ab40-d0f6a5dfba7b\">\n",
              "  <button class=\"colab-df-quickchart\" onclick=\"quickchart('df-b889c4df-0483-4dd8-ab40-d0f6a5dfba7b')\"\n",
              "            title=\"Suggest charts\"\n",
              "            style=\"display:none;\">\n",
              "\n",
              "<svg xmlns=\"http://www.w3.org/2000/svg\" height=\"24px\"viewBox=\"0 0 24 24\"\n",
              "     width=\"24px\">\n",
              "    <g>\n",
              "        <path d=\"M19 3H5c-1.1 0-2 .9-2 2v14c0 1.1.9 2 2 2h14c1.1 0 2-.9 2-2V5c0-1.1-.9-2-2-2zM9 17H7v-7h2v7zm4 0h-2V7h2v10zm4 0h-2v-4h2v4z\"/>\n",
              "    </g>\n",
              "</svg>\n",
              "  </button>\n",
              "\n",
              "<style>\n",
              "  .colab-df-quickchart {\n",
              "      --bg-color: #E8F0FE;\n",
              "      --fill-color: #1967D2;\n",
              "      --hover-bg-color: #E2EBFA;\n",
              "      --hover-fill-color: #174EA6;\n",
              "      --disabled-fill-color: #AAA;\n",
              "      --disabled-bg-color: #DDD;\n",
              "  }\n",
              "\n",
              "  [theme=dark] .colab-df-quickchart {\n",
              "      --bg-color: #3B4455;\n",
              "      --fill-color: #D2E3FC;\n",
              "      --hover-bg-color: #434B5C;\n",
              "      --hover-fill-color: #FFFFFF;\n",
              "      --disabled-bg-color: #3B4455;\n",
              "      --disabled-fill-color: #666;\n",
              "  }\n",
              "\n",
              "  .colab-df-quickchart {\n",
              "    background-color: var(--bg-color);\n",
              "    border: none;\n",
              "    border-radius: 50%;\n",
              "    cursor: pointer;\n",
              "    display: none;\n",
              "    fill: var(--fill-color);\n",
              "    height: 32px;\n",
              "    padding: 0;\n",
              "    width: 32px;\n",
              "  }\n",
              "\n",
              "  .colab-df-quickchart:hover {\n",
              "    background-color: var(--hover-bg-color);\n",
              "    box-shadow: 0 1px 2px rgba(60, 64, 67, 0.3), 0 1px 3px 1px rgba(60, 64, 67, 0.15);\n",
              "    fill: var(--button-hover-fill-color);\n",
              "  }\n",
              "\n",
              "  .colab-df-quickchart-complete:disabled,\n",
              "  .colab-df-quickchart-complete:disabled:hover {\n",
              "    background-color: var(--disabled-bg-color);\n",
              "    fill: var(--disabled-fill-color);\n",
              "    box-shadow: none;\n",
              "  }\n",
              "\n",
              "  .colab-df-spinner {\n",
              "    border: 2px solid var(--fill-color);\n",
              "    border-color: transparent;\n",
              "    border-bottom-color: var(--fill-color);\n",
              "    animation:\n",
              "      spin 1s steps(1) infinite;\n",
              "  }\n",
              "\n",
              "  @keyframes spin {\n",
              "    0% {\n",
              "      border-color: transparent;\n",
              "      border-bottom-color: var(--fill-color);\n",
              "      border-left-color: var(--fill-color);\n",
              "    }\n",
              "    20% {\n",
              "      border-color: transparent;\n",
              "      border-left-color: var(--fill-color);\n",
              "      border-top-color: var(--fill-color);\n",
              "    }\n",
              "    30% {\n",
              "      border-color: transparent;\n",
              "      border-left-color: var(--fill-color);\n",
              "      border-top-color: var(--fill-color);\n",
              "      border-right-color: var(--fill-color);\n",
              "    }\n",
              "    40% {\n",
              "      border-color: transparent;\n",
              "      border-right-color: var(--fill-color);\n",
              "      border-top-color: var(--fill-color);\n",
              "    }\n",
              "    60% {\n",
              "      border-color: transparent;\n",
              "      border-right-color: var(--fill-color);\n",
              "    }\n",
              "    80% {\n",
              "      border-color: transparent;\n",
              "      border-right-color: var(--fill-color);\n",
              "      border-bottom-color: var(--fill-color);\n",
              "    }\n",
              "    90% {\n",
              "      border-color: transparent;\n",
              "      border-bottom-color: var(--fill-color);\n",
              "    }\n",
              "  }\n",
              "</style>\n",
              "\n",
              "  <script>\n",
              "    async function quickchart(key) {\n",
              "      const quickchartButtonEl =\n",
              "        document.querySelector('#' + key + ' button');\n",
              "      quickchartButtonEl.disabled = true;  // To prevent multiple clicks.\n",
              "      quickchartButtonEl.classList.add('colab-df-spinner');\n",
              "      try {\n",
              "        const charts = await google.colab.kernel.invokeFunction(\n",
              "            'suggestCharts', [key], {});\n",
              "      } catch (error) {\n",
              "        console.error('Error during call to suggestCharts:', error);\n",
              "      }\n",
              "      quickchartButtonEl.classList.remove('colab-df-spinner');\n",
              "      quickchartButtonEl.classList.add('colab-df-quickchart-complete');\n",
              "    }\n",
              "    (() => {\n",
              "      let quickchartButtonEl =\n",
              "        document.querySelector('#df-b889c4df-0483-4dd8-ab40-d0f6a5dfba7b button');\n",
              "      quickchartButtonEl.style.display =\n",
              "        google.colab.kernel.accessAllowed ? 'block' : 'none';\n",
              "    })();\n",
              "  </script>\n",
              "</div>\n",
              "    </div>\n",
              "  </div>\n"
            ],
            "application/vnd.google.colaboratory.intrinsic+json": {
              "type": "dataframe",
              "variable_name": "new_test_dataset",
              "summary": "{\n  \"name\": \"new_test_dataset\",\n  \"rows\": 472,\n  \"fields\": [\n    {\n      \"column\": \"X1\",\n      \"properties\": {\n        \"dtype\": \"number\",\n        \"std\": 0,\n        \"min\": 0,\n        \"max\": 1,\n        \"num_unique_values\": 2,\n        \"samples\": [\n          1,\n          0\n        ],\n        \"semantic_type\": \"\",\n        \"description\": \"\"\n      }\n    },\n    {\n      \"column\": \"X2\",\n      \"properties\": {\n        \"dtype\": \"number\",\n        \"std\": 0,\n        \"min\": 0,\n        \"max\": 1,\n        \"num_unique_values\": 2,\n        \"samples\": [\n          1,\n          0\n        ],\n        \"semantic_type\": \"\",\n        \"description\": \"\"\n      }\n    },\n    {\n      \"column\": \"label\",\n      \"properties\": {\n        \"dtype\": \"number\",\n        \"std\": 0,\n        \"min\": 0,\n        \"max\": 1,\n        \"num_unique_values\": 2,\n        \"samples\": [\n          0,\n          1\n        ],\n        \"semantic_type\": \"\",\n        \"description\": \"\"\n      }\n    }\n  ]\n}"
            }
          },
          "metadata": {},
          "execution_count": 41
        }
      ],
      "source": [
        "# Text Vectorisation\n",
        "\n",
        "# Vectorized train dataset\n",
        "def transform_dataset(df_train):\n",
        "  new_train_dataset = pd.DataFrame()\n",
        "  new_train_dataset['X1'] = df_train['sentence'].apply(is_good).copy()\n",
        "  new_train_dataset['X2'] = df_train['sentence'].apply(is_bad).copy()\n",
        "  new_train_dataset['label'] = df_train['label']\n",
        "  return new_train_dataset\n",
        "\n",
        "new_train_dataset = transform_dataset(df_train)\n",
        "\n",
        "pd.set_option('max_colwidth', 1000)\n",
        "new_train_dataset.head(15)\n",
        "\n",
        "# Vectorized validation dataset\n",
        "def transform_dev_dataset(df_dev):\n",
        "  new_dev_dataset = pd.DataFrame()\n",
        "  new_dev_dataset['X1'] = df_dev['sentence'].apply(is_good).copy()\n",
        "  new_dev_dataset['X2'] = df_dev['sentence'].apply(is_bad).copy()\n",
        "  new_dev_dataset['label'] = df_dev['label']\n",
        "  return new_dev_dataset\n",
        "\n",
        "new_dev_dataset = transform_dev_dataset(df_dev)\n",
        "\n",
        "pd.set_option('max_colwidth', 1000)\n",
        "new_dev_dataset.head(15)\n",
        "\n",
        "# Vectorized test dataset\n",
        "def transform_test_dataset(df_test):\n",
        "  new_test_dataset = pd.DataFrame()\n",
        "  new_test_dataset['X1'] = df_test['sentence'].apply(is_good).copy()\n",
        "  new_test_dataset['X2'] = df_test['sentence'].apply(is_bad).copy()\n",
        "  new_test_dataset['label'] = df_test['label']\n",
        "  return new_test_dataset\n",
        "\n",
        "new_test_dataset = transform_test_dataset(df_test)\n",
        "\n",
        "pd.set_option('max_colwidth', 1000)\n",
        "new_test_dataset.head(15)\n"
      ]
    },
    {
      "cell_type": "markdown",
      "source": [
        "Train Model and Print Performance"
      ],
      "metadata": {
        "id": "tnPmC3IKCnYq"
      }
    },
    {
      "cell_type": "code",
      "execution_count": null,
      "metadata": {
        "id": "F8ZofKcCytmh",
        "colab": {
          "base_uri": "https://localhost:8080/"
        },
        "outputId": "47e46868-7fd9-4390-87a3-0e7a0d37b4d1"
      },
      "outputs": [
        {
          "output_type": "stream",
          "name": "stdout",
          "text": [
            "Accuracy score on train is 57.25%\n",
            "Accuracy score on dev is 55.00%\n"
          ]
        }
      ],
      "source": [
        "# Performance of the training set on the validation\n",
        "\n",
        "# Define inputs (x) and labels (y)\n",
        "X_train = np.column_stack((new_train_dataset['X1'].values, new_train_dataset['X2'].values))\n",
        "X_dev = np.column_stack((new_dev_dataset['X1'].values, new_dev_dataset['X2'].values))\n",
        "label_train =  new_train_dataset['label']\n",
        "label_dev =  new_dev_dataset['label']\n",
        "\n",
        "# Define model\n",
        "model = LogisticRegression()\n",
        "\n",
        "# Train model\n",
        "model.fit(X_train, label_train)\n",
        "\n",
        "# Get model predictions on train and test set\n",
        "y_pred_train = model.predict(X_train)\n",
        "y_pred_dev = model.predict(X_dev)\n",
        "y_pred_dev_proba = model.predict_proba(X_dev)\n",
        "\n",
        "# Print performance\n",
        "acc_train = 100 * accuracy_score(y_true=label_train, y_pred=y_pred_train)\n",
        "acc_dev = 100 * accuracy_score(y_true=label_dev, y_pred=y_pred_dev)\n",
        "acc_dev_reference = acc_dev  # keep a copy of the score for evaluating the upcoming exercise\n",
        "\n",
        "print(\"Accuracy score on train is {:.2f}%\".format(acc_train))\n",
        "print(\"Accuracy score on dev is {:.2f}%\".format(acc_dev))"
      ]
    },
    {
      "cell_type": "code",
      "source": [
        "# Performance of the training set on the test set\n",
        "\n",
        "# Define the inputs (x) and labels (y)\n",
        "X_train = np.column_stack((new_train_dataset['X1'].values, new_train_dataset['X2'].values))\n",
        "X_test = np.column_stack((new_test_dataset['X1'].values, new_test_dataset['X2'].values))\n",
        "label_train =  new_train_dataset['label']\n",
        "label_test =  new_test_dataset['label']\n",
        "\n",
        "# Define model\n",
        "model = LogisticRegression()\n",
        "\n",
        "# Train model\n",
        "model.fit(X_train, label_train)\n",
        "\n",
        "# Get model predictions on train and test set\n",
        "y_pred_train = model.predict(X_train)\n",
        "y_pred_test = model.predict(X_test)\n",
        "y_pred_test_proba = model.predict_proba(X_test)\n",
        "\n",
        "# Print performance\n",
        "acc_train = 100 * accuracy_score(y_true=label_train, y_pred=y_pred_train)\n",
        "acc_test = 100 * accuracy_score(y_true=label_test, y_pred=y_pred_test)\n",
        "acc_test_reference = acc_test  # keep a copy of the score for evaluating the upcoming exercise\n",
        "\n",
        "print(\"Accuracy score on train is {:.2f}%\".format(acc_train))\n",
        "print(\"Accuracy score on test is {:.2f}%\".format(acc_test))"
      ],
      "metadata": {
        "colab": {
          "base_uri": "https://localhost:8080/"
        },
        "id": "YME7R7t9Whg1",
        "outputId": "c004ed09-ca04-463d-d3be-198fb251b35a"
      },
      "execution_count": null,
      "outputs": [
        {
          "output_type": "stream",
          "name": "stdout",
          "text": [
            "Accuracy score on train is 57.25%\n",
            "Accuracy score on test is 52.33%\n"
          ]
        }
      ]
    },
    {
      "cell_type": "markdown",
      "source": [
        "Feature Engineered Logistic Regression Model"
      ],
      "metadata": {
        "id": "ZY8x1X2zDFbN"
      }
    },
    {
      "cell_type": "code",
      "source": [
        "from sklearn.preprocessing import StandardScaler\n",
        "from torchtext.vocab import GloVe\n",
        "glove_vectors = GloVe(name = '6B', dim = 100)\n",
        "\n",
        "!wget http://nlp.stanford.edu/data/glove.6B.zip\n",
        "!unzip glove.6B.zip"
      ],
      "metadata": {
        "colab": {
          "base_uri": "https://localhost:8080/"
        },
        "id": "frKVpeSDAk60",
        "outputId": "818615b3-5cbe-42b4-b9bc-bce6dd776cb5"
      },
      "execution_count": null,
      "outputs": [
        {
          "output_type": "stream",
          "name": "stderr",
          "text": [
            ".vector_cache/glove.6B.zip: 862MB [02:39, 5.40MB/s]                           \n",
            "100%|█████████▉| 399999/400000 [00:25<00:00, 15709.99it/s]\n"
          ]
        },
        {
          "output_type": "stream",
          "name": "stdout",
          "text": [
            "--2024-03-07 21:55:36--  http://nlp.stanford.edu/data/glove.6B.zip\n",
            "Resolving nlp.stanford.edu (nlp.stanford.edu)... 171.64.67.140\n",
            "Connecting to nlp.stanford.edu (nlp.stanford.edu)|171.64.67.140|:80... connected.\n",
            "HTTP request sent, awaiting response... 302 Found\n",
            "Location: https://nlp.stanford.edu/data/glove.6B.zip [following]\n",
            "--2024-03-07 21:55:36--  https://nlp.stanford.edu/data/glove.6B.zip\n",
            "Connecting to nlp.stanford.edu (nlp.stanford.edu)|171.64.67.140|:443... connected.\n",
            "HTTP request sent, awaiting response... 301 Moved Permanently\n",
            "Location: https://downloads.cs.stanford.edu/nlp/data/glove.6B.zip [following]\n",
            "--2024-03-07 21:55:37--  https://downloads.cs.stanford.edu/nlp/data/glove.6B.zip\n",
            "Resolving downloads.cs.stanford.edu (downloads.cs.stanford.edu)... 171.64.64.22\n",
            "Connecting to downloads.cs.stanford.edu (downloads.cs.stanford.edu)|171.64.64.22|:443... connected.\n",
            "HTTP request sent, awaiting response... 200 OK\n",
            "Length: 862182613 (822M) [application/zip]\n",
            "Saving to: ‘glove.6B.zip’\n",
            "\n",
            "glove.6B.zip        100%[===================>] 822.24M  5.01MB/s    in 2m 39s  \n",
            "\n",
            "2024-03-07 21:58:16 (5.17 MB/s) - ‘glove.6B.zip’ saved [862182613/862182613]\n",
            "\n",
            "Archive:  glove.6B.zip\n",
            "  inflating: glove.6B.50d.txt        \n",
            "  inflating: glove.6B.100d.txt       \n",
            "  inflating: glove.6B.200d.txt       \n",
            "  inflating: glove.6B.300d.txt       \n"
          ]
        }
      ]
    },
    {
      "cell_type": "code",
      "execution_count": 2,
      "metadata": {
        "id": "Tde_EwXYu0UJ"
      },
      "outputs": [],
      "source": [
        "# Second logistic regression using feature engineering\n",
        "\n",
        "# Assign label inputs\n",
        "label_train_fe =  new_train_dataset['label'].values.reshape(-1, 1)\n",
        "label_dev_fe =  new_dev_dataset['label'].values.reshape(-1, 1)\n",
        "label_test_fe =  new_test_dataset['label'].values.reshape(-1, 1)\n",
        "\n",
        "# Create one scaler instance for all datasets\n",
        "scaler = StandardScaler()\n",
        "\n",
        "# Fit and transform the training features\n",
        "X_train_fe_scaler = scaler.fit_transform(new_train_dataset[['X1', 'X2']].values)\n",
        "\n",
        "# Apply the scaler transformation to the dev and test sets\n",
        "X_dev_fe_scaler = scaler.fit_transform(new_dev_dataset[['X1', 'X2']].values)\n",
        "X_test_fe_scaler = scaler.fit_transform(new_test_dataset[['X1', 'X2']].values)\n"
      ]
    },
    {
      "cell_type": "code",
      "execution_count": null,
      "metadata": {
        "id": "tLo_QoEd-lCo",
        "colab": {
          "base_uri": "https://localhost:8080/"
        },
        "outputId": "3644edba-7aab-4a2c-85cb-9277be3483f7"
      },
      "outputs": [
        {
          "output_type": "stream",
          "name": "stdout",
          "text": [
            "Accuracy score on train is 57.25%\n",
            "Accuracy score on dev is 55.00%\n"
          ]
        },
        {
          "output_type": "stream",
          "name": "stderr",
          "text": [
            "/usr/local/lib/python3.10/dist-packages/sklearn/utils/validation.py:1143: DataConversionWarning: A column-vector y was passed when a 1d array was expected. Please change the shape of y to (n_samples, ), for example using ravel().\n",
            "  y = column_or_1d(y, warn=True)\n"
          ]
        }
      ],
      "source": [
        "# Define the model\n",
        "model = LogisticRegression()\n",
        "\n",
        "# Train the model\n",
        "model.fit(X_train_fe_scaler, label_train_fe)\n",
        "\n",
        "# Model predictions on train and test set\n",
        "y_pred_train_fe = model.predict(X_train_fe_scaler)\n",
        "y_pred_dev_fe = model.predict(X_dev_fe_scaler)\n",
        "y_pred_dev_proba_fe = model.predict_proba(X_dev_fe_scaler)\n",
        "\n",
        "#Print its performance\n",
        "acc_train_fe = 100 * accuracy_score(y_true=label_train_fe, y_pred=y_pred_train_fe)\n",
        "acc_dev_fe = 100 * accuracy_score(y_true=label_dev_fe, y_pred=y_pred_dev_fe)\n",
        "acc_dev_reference = acc_dev_fe  # keep a copy of the score for evaluating the upcoming exercise\n",
        "\n",
        "print(\"Accuracy score on train is {:.2f}%\".format(acc_train_fe))\n",
        "print(\"Accuracy score on dev is {:.2f}%\".format(acc_dev_fe))"
      ]
    },
    {
      "cell_type": "code",
      "source": [
        "# Grid Search on the logistic regression on the train and test sets\n",
        "\n",
        "from sklearn.model_selection import GridSearchCV\n",
        "\n",
        "param_grid = {'C': [0.001, 0.01, 0.1, 1, 10, 100]}\n",
        "\n",
        "logistic_reg = LogisticRegression()\n",
        "\n",
        "grid_search = GridSearchCV(estimator = logistic_reg, param_grid = param_grid, cv = 5)\n",
        "\n",
        "grid_search.fit(X_train_fe_scaler, label_train_fe.ravel())\n",
        "\n",
        "best_C = grid_search.best_params_['C']\n",
        "\n",
        "final_model = LogisticRegression(C = best_C)\n",
        "final_model.fit(X_train_fe_scaler, label_train_fe)\n",
        "\n",
        "accuracy = final_model.score(X_dev_fe_scaler, label_dev_fe)\n",
        "print(\"Accuracy score on train is:\",(accuracy))"
      ],
      "metadata": {
        "colab": {
          "base_uri": "https://localhost:8080/"
        },
        "id": "vRF9Jc4PaIc3",
        "outputId": "4060773a-d8e7-427c-9b44-f592a1f57728"
      },
      "execution_count": null,
      "outputs": [
        {
          "output_type": "stream",
          "name": "stdout",
          "text": [
            "Accuracy score on train is: 0.55\n"
          ]
        },
        {
          "output_type": "stream",
          "name": "stderr",
          "text": [
            "/usr/local/lib/python3.10/dist-packages/sklearn/utils/validation.py:1143: DataConversionWarning: A column-vector y was passed when a 1d array was expected. Please change the shape of y to (n_samples, ), for example using ravel().\n",
            "  y = column_or_1d(y, warn=True)\n"
          ]
        }
      ]
    },
    {
      "cell_type": "markdown",
      "source": [
        "Train Logistic Regression on TF-IDF Representations"
      ],
      "metadata": {
        "id": "-iWYBE1ED1Ym"
      }
    },
    {
      "cell_type": "code",
      "execution_count": null,
      "metadata": {
        "id": "xsbx2lNP-lAE",
        "colab": {
          "base_uri": "https://localhost:8080/"
        },
        "outputId": "d41e0693-d96e-47fe-981b-9a81c485800d"
      },
      "outputs": [
        {
          "output_type": "stream",
          "name": "stdout",
          "text": [
            "Accuracy score on train is 84.60%\n",
            "Accuracy score on dev is 80.00%\n"
          ]
        }
      ],
      "source": [
        "# Define the inputs (x) and labels (y)\n",
        "x_train_tfidf, y_train_tfidf = df_train['sentence'].values, df_train['label'].values\n",
        "x_dev_tfidf, y_dev_tfidf = df_dev['sentence'].values, df_dev['label'].values\n",
        "\n",
        "# Initialize TF-IDF vectorization\n",
        "vectorizer = TfidfVectorizer()\n",
        "X_tfid_train = vectorizer.fit_transform(x_train_tfidf)\n",
        "X_tfid_dev = vectorizer.transform(x_dev_tfidf)\n",
        "\n",
        "# Define the model\n",
        "model_tfid = LogisticRegression(C = 0.1)\n",
        "\n",
        "# Train the model\n",
        "model_tfid.fit(X_tfid_train, y_train_tfidf)\n",
        "\n",
        "# Model predictions on train and test set\n",
        "y_pred_train_tfidf = model_tfid.predict(X_tfid_train)\n",
        "y_pred_dev_tfidf = model_tfid.predict(X_tfid_dev)\n",
        "y_pred_dev_proba_tfidf = model_tfid.predict_proba(X_tfid_dev)\n",
        "\n",
        "# Evaluate the model accuracy\n",
        "acc_train = 100 * accuracy_score(y_true=y_train_tfidf, y_pred=y_pred_train_tfidf)\n",
        "acc_dev = 100 * accuracy_score(y_true=y_dev_tfidf, y_pred=y_pred_dev_tfidf)\n",
        "acc_dev_reference = acc_dev  # keep a copy of the score for evaluating the upcoming exercise\n",
        "\n",
        "print(\"Accuracy score on train is {:.2f}%\".format(acc_train))\n",
        "print(\"Accuracy score on dev is {:.2f}%\".format(acc_dev))"
      ]
    },
    {
      "cell_type": "markdown",
      "source": [
        "Error Analysis: Comparing Logistic Regression Model and TF-IDF Logistic Regression Model"
      ],
      "metadata": {
        "id": "pP3izGidEIza"
      }
    },
    {
      "cell_type": "code",
      "execution_count": null,
      "metadata": {
        "id": "_wbdkSCo-k9q",
        "colab": {
          "base_uri": "https://localhost:8080/",
          "height": 1000
        },
        "outputId": "ccc73e13-5ce9-428e-e5e6-4955750f493f"
      },
      "outputs": [
        {
          "output_type": "display_data",
          "data": {
            "text/plain": [
              "<Figure size 800x800 with 2 Axes>"
            ],
            "image/png": "[encoded data removed]"
          },
          "metadata": {}
        },
        {
          "output_type": "display_data",
          "data": {
            "text/plain": [
              "<Figure size 800x800 with 2 Axes>"
            ],
            "image/png": "[encoded data removed]"
          },
          "metadata": {}
        }
      ],
      "source": [
        "# Feature engineered logistic regression model\n",
        "def plot_confusion_matrix(cm, classes, normalize=False, title='Confusion Matrix', cmap=plt.cm.Blues):\n",
        "    if normalize:\n",
        "        cm = cm.astype('float') / cm.sum(axis=1)[:, np.newaxis]\n",
        "    fig, ax = plt.subplots(1, 1, figsize=(8, 8))\n",
        "    plt.imshow(cm, interpolation='nearest', cmap=cmap)\n",
        "    plt.colorbar(fraction=0.046, pad=0.04)\n",
        "\n",
        "    # Add the labels\n",
        "    fmt = '.2f' if normalize else 'd'\n",
        "    thresh = cm.max() / 2.\n",
        "    for i, j in itertools.product(range(cm.shape[0]), range(cm.shape[1])):\n",
        "        plt.text(j, i, format(cm[i, j], fmt),\n",
        "                 horizontalalignment=\"center\",\n",
        "                 color=\"white\" if cm[i, j] > thresh else \"black\")\n",
        "\n",
        "    ax.set(yticks=[-0.5, 1.5],\n",
        "           xticks=[0, 1],\n",
        "           yticklabels=classes,\n",
        "           xticklabels=classes)\n",
        "    ax.yaxis.set_major_locator(matplotlib.ticker.IndexLocator(base=1, offset=0.5))\n",
        "    if title:\n",
        "        plt.title(title)\n",
        "    plt.ylabel('Ground truth label')\n",
        "    plt.xlabel('Predicted label')\n",
        "    plt.show()\n",
        "\n",
        "# Plot the confusion matrix for the feature engineered logistic regression model's validation set\n",
        "cm = confusion_matrix(y_true=label_dev, y_pred=y_pred_dev)\n",
        "plot_confusion_matrix(cm, (\"0\", \"1\"), normalize=True)\n",
        "\n",
        "# Plot the confusion matrix for the TFIDF logistic regression model's validation set\n",
        "cm = confusion_matrix(y_true=y_dev_tfidf, y_pred=y_pred_dev_tfidf)\n",
        "plot_confusion_matrix(cm, (\"0\", \"1\"), normalize=True)"
      ]
    },
    {
      "cell_type": "markdown",
      "metadata": {
        "id": "EMfSdq0JJfwQ"
      },
      "source": [
        "<hr />"
      ]
    },
    {
      "cell_type": "markdown",
      "source": [
        "Text Similarity"
      ],
      "metadata": {
        "id": "jUNo-nU3EXli"
      }
    },
    {
      "cell_type": "code",
      "execution_count": null,
      "metadata": {
        "id": "useFNFXmZ8M-"
      },
      "outputs": [],
      "source": [
        "# Example Sentences\n",
        "sentence_1 = \"He has been strolling along the river bank in the local park. The tree leaves were rustling and the birds were chirping. It was truly magical.\"\n",
        "sentence_2 = \"The man went for a walk on the grass next to the stream. The birds were singing and the trees were dancing in the wind. It was a great experience.\""
      ]
    },
    {
      "cell_type": "markdown",
      "source": [
        "Derive Cosine Similarity"
      ],
      "metadata": {
        "id": "RlnNax2wFDqS"
      }
    },
    {
      "cell_type": "code",
      "execution_count": null,
      "metadata": {
        "id": "vzAaYNGAqbsk",
        "colab": {
          "base_uri": "https://localhost:8080/"
        },
        "outputId": "aced82d8-3c15-4384-e42d-32a31a76eea6"
      },
      "outputs": [
        {
          "output_type": "stream",
          "name": "stdout",
          "text": [
            "[[0.53452248]]\n",
            "[[0.53452248]]\n"
          ]
        }
      ],
      "source": [
        "from sklearn.metrics.pairwise import cosine_similarity\n",
        "import numpy as np\n",
        "def get_similarity(embedding_1:np.array, embedding_2:np.array) -> float:\n",
        "  embedding_1 = embedding_1.reshape(1, -1)\n",
        "  embedding_2 = embedding_2.reshape(1, -1)\n",
        "  return cosine_similarity(embedding_1, embedding_2)\n",
        "\n",
        "# Testing the function with the following vectors\n",
        "embedding_1 = np.array([1, 0, 1, 1, 0, 1, 1, 1, 0, 0, 1, 0])\n",
        "embedding_2 = np.array([0, 1, 1, 0, 1, 0, 1, 1, 0, 1, 1, 1])\n",
        "\n",
        "print(get_similarity(embedding_1, embedding_2))\n",
        "print(get_similarity(embedding_2, embedding_1))\n",
        "\n"
      ]
    },
    {
      "cell_type": "markdown",
      "source": [
        "Similarity Between word2vec Embeddings"
      ],
      "metadata": {
        "id": "QLiut57zFHcr"
      }
    },
    {
      "cell_type": "code",
      "execution_count": null,
      "metadata": {
        "colab": {
          "base_uri": "https://localhost:8080/"
        },
        "id": "X4ijk_BZI6Sh",
        "outputId": "c9dcaedf-bcc3-4a5e-c5fd-732bd5c28a11"
      },
      "outputs": [
        {
          "output_type": "stream",
          "name": "stdout",
          "text": [
            "[[0.64586526]]\n"
          ]
        }
      ],
      "source": [
        "#Word2Vec Tokenization\n",
        "def word2vec_tokenize(text):\n",
        "    return text.split()\n",
        "\n",
        "word2vec_s1 = word2vec_tokenize(sentence_1)\n",
        "word2vec_s2 = word2vec_tokenize(sentence_2)\n",
        "\n",
        "word2vec_sentences = [word2vec_s1, word2vec_s2]\n",
        "\n",
        "word2vec_model = Word2Vec(sentences = word2vec_sentences, vector_size = 100, window = 5, min_count = 1, workers = 4)\n",
        "\n",
        "word2vec_s1_embedding = [word2vec_model.wv[word] for word in word2vec_s1 if word in word2vec_model.wv]\n",
        "word2vec_s2_embedding = [word2vec_model.wv[word] for word in word2vec_s2 if word in word2vec_model.wv]\n",
        "\n",
        "def get_similarity_word2vec(embedding_1:np.array, embedding_2:np.array) -> float:\n",
        "  word2vec_similarity = cosine_similarity([np.mean(word2vec_s1_embedding, axis = 0)], [np.mean(word2vec_s2_embedding, axis = 0)])\n",
        "  return word2vec_similarity\n",
        "\n",
        "# Embed sentences using spaCy word embeddings\n",
        "word2vec_vector_1 = nlp(sentence_1).vector\n",
        "word2vec_vector_2 = nlp(sentence_2).vector\n",
        "\n",
        "# Find the similarity between two vectors\n",
        "\n",
        "# Reshape the embeddings to 2D arrays\n",
        "similarity = cosine_similarity(word2vec_vector_1.reshape(1, -1), word2vec_vector_2.reshape(1, -1))[0][0]\n",
        "\n",
        "similarity_w2v= get_similarity_word2vec(word2vec_vector_1, word2vec_vector_2)\n",
        "print(similarity_w2v)"
      ]
    },
    {
      "cell_type": "markdown",
      "source": [
        "Similarity Using Bag of Words"
      ],
      "metadata": {
        "id": "EP_iaNHcFZsx"
      }
    },
    {
      "cell_type": "code",
      "execution_count": null,
      "metadata": {
        "colab": {
          "base_uri": "https://localhost:8080/"
        },
        "id": "CfgDwVKXI6Pz",
        "outputId": "2167b8f1-2321-4f2f-f9ed-c070b2579fcb"
      },
      "outputs": [
        {
          "output_type": "stream",
          "name": "stdout",
          "text": [
            "['He has been strolling along the river bank in the local park. The tree leaves were rustling and the birds were chirping. It was truly magical.', 'The man went for a walk on the grass next to the stream. The birds were singing and the trees were dancing in the wind. It was a great experience.']\n",
            "['He', 'has', 'been', 'strolling', 'along', 'the', 'river', 'bank', 'in', 'the', 'local', 'park', '.', 'The', 'tree', 'leaves', 'were', 'rustling', 'and', 'the', 'birds', 'were', 'chirping', '.', 'It', 'was', 'truly', 'magical', '.']\n",
            "['he has been strolling along the river bank in the local park. the tree leaves were rustling and the birds were chirping. it was truly magical.', 'the man went for a walk on the grass next to the stream. the birds were singing and the trees were dancing in the wind. it was a great experience.']\n",
            "{'OOV': 0, 'he': 1, 'has': 2, 'been': 3, 'strolling': 4, 'along': 5, 'the': 6, 'river': 7, 'bank': 8, 'in': 9, 'local': 10, 'park': 11, '.': 12, 'tree': 13, 'leaves': 14, 'were': 15, 'rustling': 16, 'and': 17, 'birds': 18, 'chirping': 19, 'it': 20, 'was': 21, 'truly': 22, 'magical': 23, 'man': 24, 'went': 25, 'for': 26, 'a': 27, 'walk': 28, 'on': 29, 'grass': 30, 'next': 31, 'to': 32, 'stream': 33, 'singing': 34, 'trees': 35, 'dancing': 36, 'wind': 37, 'great': 38, 'experience': 39}\n",
            "Sentence 1: he has been strolling along the river bank in the local park. the tree leaves were rustling and the birds were chirping. it was truly magical.\n",
            "Representation: [0, 1, 1, 1, 1, 1, 4, 1, 1, 1, 1, 1, 3, 1, 1, 2, 1, 1, 1, 1, 1, 1, 1, 1, 0, 0, 0, 0, 0, 0, 0, 0, 0, 0, 0, 0, 0, 0, 0, 0]\n",
            "\n",
            "Sentence 2: the man went for a walk on the grass next to the stream. the birds were singing and the trees were dancing in the wind. it was a great experience.\n",
            "Representation: [0, 0, 0, 0, 0, 0, 6, 0, 0, 1, 0, 0, 3, 0, 0, 2, 0, 1, 1, 0, 1, 1, 0, 0, 1, 1, 1, 2, 1, 1, 1, 1, 1, 1, 1, 1, 1, 1, 1, 1]\n",
            "\n",
            "[[0.9316568]]\n"
          ]
        }
      ],
      "source": [
        "# Bag of Words Functions\n",
        "\n",
        "def lowercase(text):\n",
        "    return text.lower()\n",
        "\n",
        "corpus = [sentence_1, sentence_2]\n",
        "print(corpus)\n",
        "\n",
        "def spacy_word_tokenize(text):\n",
        "    return [token.text for token in nlp(text)]\n",
        "\n",
        "print(spacy_word_tokenize(sentence_1))\n",
        "\n",
        "def build_vocab(corpus):\n",
        "    vocab = {'OOV': 0}\n",
        "    for doc in corpus:\n",
        "        for token in spacy_word_tokenize(doc):\n",
        "            if token not in vocab:\n",
        "                vocab[token] = len(vocab)\n",
        "    return vocab\n",
        "\n",
        "# Lowercase all sentences\n",
        "corpus = [lowercase(sentence) for sentence in corpus]\n",
        "\n",
        "print(corpus)\n",
        "\n",
        "vocab = build_vocab(corpus)\n",
        "print(vocab)\n",
        "\n",
        "def featurise_bow(text, vocab=vocab):\n",
        "    counts = [0] * len(vocab)\n",
        "    tokens = spacy_word_tokenize(text)\n",
        "    for token in tokens:\n",
        "        if token in vocab:\n",
        "            counts[vocab[token]] += 1\n",
        "        else:\n",
        "            counts[vocab['OOV']] += 1\n",
        "    return counts\n",
        "\n",
        "# Embed sentences using spaCy word embeddings\n",
        "word_vector_1 = nlp(sentence_1).vector\n",
        "word_vector_2 = nlp(sentence_2).vector\n",
        "\n",
        "# Find the similarity between two vectors\n",
        "\n",
        "# Reshape the embeddings to 2D arrays\n",
        "similarity = cosine_similarity(word_vector_1.reshape(1, -1), word_vector_2.reshape(1, -1))[0][0]\n",
        "\n",
        "similarity_w2v= get_similarity(word_vector_1, word_vector_2)\n",
        "print(similarity_w2v)"
      ]
    },
    {
      "cell_type": "markdown",
      "source": [
        "Modelling"
      ],
      "metadata": {
        "id": "AyBzPpwdGbQM"
      }
    },
    {
      "cell_type": "markdown",
      "source": [
        "Fast Text Modelling"
      ],
      "metadata": {
        "id": "A6jRrs7zGibX"
      }
    },
    {
      "cell_type": "markdown",
      "metadata": {
        "id": "Te4a0ZgakHrv"
      },
      "source": [
        "<hr />"
      ]
    },
    {
      "cell_type": "code",
      "source": [
        "#FastText Modelling\n",
        "\n",
        "# LOCAL paths\n",
        "path_train = \"train.tsv\"\n",
        "path_dev = \"dev.tsv\"\n",
        "\n",
        "# Load in the train and dev data\n",
        "df_train = pd.read_csv(path_train, sep='\\t')\n",
        "df_dev = pd.read_csv(path_dev, sep='\\t')\n",
        "\n",
        "#Split df_dev into a validation and test set\n",
        "df_dev, df_test = df_dev[:400], df_dev[400:]\n",
        "\n",
        "# Quick look at the training data\n",
        "pd.set_option('max_colwidth', 1000)\n",
        "df_train[:10]\n",
        "\n",
        "# Function for tokenizing the dataset's sentence column\n",
        "def df_tokenization(sentence):\n",
        "    tokens = sentence.lower().split()\n",
        "    return tokens\n",
        "\n",
        "# Apply the tokenization (training set)\n",
        "df_train_tokens = df_train['sentence'].apply(df_tokenization)\n",
        "\n",
        "train_model = FastText(df_train, vector_size = 128, window = 5, min_count = 3, workers = 4, epochs = 10, seed = 42,sg = 1)\n",
        "train_model.save(\"df_train_ftmodel\")\n",
        "\n",
        "load_train_model = FastText.load(\"df_train_ftmodel\")\n",
        "\n",
        "# Apply the tokenization (validation set)\n",
        "df_dev_tokens = df_dev['sentence'].apply(df_tokenization)\n",
        "\n",
        "dev_model = FastText(df_dev, vector_size = 128, window = 5, min_count = 3, workers = 4, epochs = 10, seed = 42,sg = 1)\n",
        "dev_model.save(\"df_dev_ftmodel\")\n",
        "\n",
        "load_dev_model = FastText.load(\"df_dev_ftmodel\")\n",
        "\n",
        "# Apply the tokenization (test set)\n",
        "df_test_tokens = df_test['sentence'].apply(df_tokenization)\n",
        "\n",
        "test_model = FastText(df_test, vector_size = 128, window = 5, min_count = 3, workers = 4, epochs = 10, seed = 42,sg = 1)\n",
        "test_model.save(\"df_test_ftmodel\")\n",
        "\n",
        "load_test_model = FastText.load(\"df_test_ftmodel\")\n",
        "\n",
        "# Function for word embedding\n",
        "def df_embed(tokens):\n",
        "  df_embeddings = [train_model.wv[word] for word in tokens if word in train_model.wv]\n",
        "  if df_embeddings:\n",
        "    return sum(df_embeddings)/ len(df_embeddings)\n",
        "  else:\n",
        "    return [0] * train_model.vector_size\n",
        "\n",
        "# Embed the train and test sets\n",
        "X_FT_train_embedding = [df_embed(tokens) for tokens in df_train_tokens]\n",
        "X_FT_dev_embedding = [df_embed(tokens) for tokens in df_dev_tokens]\n",
        "X_FT_test_embedding = [df_embed(tokens) for tokens in df_test_tokens]\n",
        "\n",
        "# Define the inputs (x) and labels (y)\n",
        "label_FT_train =  df_train['label']\n",
        "label_FT_dev =  df_dev['label']\n",
        "label_FT_test =  df_test['label']\n",
        "\n",
        "# Define the model\n",
        "model_FT = LogisticRegression()\n",
        "\n",
        "# Train the model\n",
        "model_FT.fit(X_FT_train_embedding, label_FT_train)\n",
        "\n",
        "# Get model predictions on train and test set\n",
        "y_pred_ft_train = model_FT.predict(X_FT_train_embedding)\n",
        "y_pred_ft_test = model_FT.predict(X_FT_test_embedding)\n",
        "y_pred_ft_test_proba = model_FT.predict_proba(X_FT_test_embedding)\n",
        "\n",
        "# Print its performance\n",
        "acc_train = 100 * accuracy_score(y_true=label_FT_train, y_pred=y_pred_ft_train)\n",
        "acc_test = 100 * accuracy_score(y_true=label_FT_test, y_pred=y_pred_ft_test)\n",
        "acc_test_reference = acc_test  # keep a copy of the score for evaluating the upcoming exercise\n",
        "\n",
        "print(\"Accuracy score on train is {:.2f}%\".format(acc_train))\n",
        "print(\"Accuracy score on test is {:.2f}%\".format(acc_test))\n"
      ],
      "metadata": {
        "colab": {
          "base_uri": "https://localhost:8080/"
        },
        "id": "h-9wPszzg9xP",
        "outputId": "bf6c2dce-f77e-4a4c-ecc9-84a306cfb61c"
      },
      "execution_count": null,
      "outputs": [
        {
          "output_type": "stream",
          "name": "stderr",
          "text": [
            "WARNING:gensim.models.word2vec:Each 'sentences' item should be a list of words (usually unicode strings). First item here is instead plain <class 'str'>.\n",
            "WARNING:gensim.models.word2vec:Each 'sentences' item should be a list of words (usually unicode strings). First item here is instead plain <class 'str'>.\n",
            "WARNING:gensim.models.word2vec:Each 'sentences' item should be a list of words (usually unicode strings). First item here is instead plain <class 'str'>.\n"
          ]
        },
        {
          "output_type": "stream",
          "name": "stdout",
          "text": [
            "Accuracy score on train is 55.78%\n",
            "Accuracy score on test is 50.00%\n"
          ]
        }
      ]
    },
    {
      "cell_type": "code",
      "source": [
        "#FastText\n",
        "\n",
        "# LOCAL paths\n",
        "path_train = \"train.tsv\"\n",
        "path_dev = \"dev.tsv\"\n",
        "\n",
        "# Load in the train and dev data\n",
        "df_train = pd.read_csv(path_train, sep='\\t')\n",
        "df_dev = pd.read_csv(path_dev, sep='\\t')\n",
        "\n",
        "#Split df_dev into a validation and test set for the purposes of this assignment\n",
        "df_dev, df_test = df_dev[:400], df_dev[400:]\n",
        "\n",
        "# Quick look at the training data\n",
        "pd.set_option('max_colwidth', 1000)\n",
        "df_train[:10]\n",
        "\n",
        "#Function for tokenizing the dataset's sentence column\n",
        "def df_tokenization(sentence):\n",
        "    tokens = sentence.lower().split()\n",
        "    return tokens\n",
        "\n",
        "#Apply the tokenization (training set)\n",
        "df_train_tokens = df_train['sentence'].apply(df_tokenization)\n",
        "\n",
        "train_model = FastText(df_train, vector_size = 128, window = 5, min_count = 3, workers = 4, epochs = 10, seed = 42,sg = 1)\n",
        "train_model.save(\"df_train_ftmodel\")\n",
        "\n",
        "load_train_model = FastText.load(\"df_train_ftmodel\")\n",
        "\n",
        "#Apply the tokenization (validation set)\n",
        "df_dev_tokens = df_dev['sentence'].apply(df_tokenization)\n",
        "\n",
        "dev_model = FastText(df_dev, vector_size = 128, window = 5, min_count = 3, workers = 4, epochs = 10, seed = 42,sg = 1)\n",
        "dev_model.save(\"df_dev_ftmodel\")\n",
        "\n",
        "load_dev_model = FastText.load(\"df_dev_ftmodel\")\n",
        "\n",
        "#Apply the tokenization(test set)\n",
        "df_test_tokens = df_test['sentence'].apply(df_tokenization)\n",
        "\n",
        "test_model = FastText(df_test, vector_size = 128, window = 5, min_count = 3, workers = 4, epochs = 10, seed = 42,sg = 1)\n",
        "test_model.save(\"df_test_ftmodel\")\n",
        "\n",
        "load_test_model = FastText.load(\"df_test_ftmodel\")\n",
        "\n",
        "#Function for word embedding\n",
        "def df_embed(tokens, model):\n",
        "  df_embeddings = [train_model.wv[word] for word in tokens if word in train_model.wv]\n",
        "  if df_embeddings:\n",
        "    return sum(df_embeddings)/ len(df_embeddings)\n",
        "  else:\n",
        "    return [0] * train_model.vector_size\n",
        "\n",
        "#Embed the train and test sets\n",
        "X_FT_train_embedding = [df_embed(tokens, load_train_model) for tokens in df_train_tokens]\n",
        "X_FT_dev_embedding = [df_embed(tokens, load_dev_model) for tokens in df_dev_tokens]\n",
        "X_FT_test_embedding = [df_embed(tokens, load_test_model) for tokens in df_test_tokens]\n",
        "\n",
        "# Define the inputs (x) and labels (y)\n",
        "label_FT_train =  df_train['label']\n",
        "label_FT_dev =  df_dev['label']\n",
        "label_FT_test =  df_test['label']\n",
        "\n",
        "#Define logistic regression\n",
        "model_FT = LogisticRegression()\n",
        "\n",
        "#Train the model\n",
        "model_FT.fit(X_FT_train_embedding, label_FT_train)\n",
        "\n",
        "#Get model predictions on train and test set\n",
        "y_pred_ft_train = model_FT.predict(X_FT_train_embedding)\n",
        "y_pred_ft_test = model_FT.predict(X_FT_test_embedding)\n",
        "y_pred_ft_test_proba = model_FT.predict_proba(X_FT_test_embedding)\n",
        "\n",
        "#Print its performance\n",
        "acc_train = 100 * accuracy_score(y_true=label_FT_train, y_pred=y_pred_ft_train)\n",
        "acc_test = 100 * accuracy_score(y_true=label_FT_test, y_pred=y_pred_ft_test)\n",
        "acc_test_reference = acc_test  # keep a copy of the score for evaluating the upcoming exercise\n",
        "\n",
        "print(\"Accuracy score on train is {:.2f}%\".format(acc_train))\n",
        "print(\"Accuracy score on test is {:.2f}%\".format(acc_test))\n",
        "\n"
      ],
      "metadata": {
        "colab": {
          "base_uri": "https://localhost:8080/"
        },
        "id": "vlBq2FIAn83l",
        "outputId": "b2a27940-e08f-44e8-948f-f268e6a3a494"
      },
      "execution_count": null,
      "outputs": [
        {
          "output_type": "stream",
          "name": "stderr",
          "text": [
            "WARNING:gensim.models.word2vec:Each 'sentences' item should be a list of words (usually unicode strings). First item here is instead plain <class 'str'>.\n",
            "WARNING:gensim.models.word2vec:Each 'sentences' item should be a list of words (usually unicode strings). First item here is instead plain <class 'str'>.\n",
            "WARNING:gensim.models.word2vec:Each 'sentences' item should be a list of words (usually unicode strings). First item here is instead plain <class 'str'>.\n"
          ]
        },
        {
          "output_type": "stream",
          "name": "stdout",
          "text": [
            "Accuracy score on train is 55.78%\n",
            "Accuracy score on test is 50.00%\n"
          ]
        }
      ]
    },
    {
      "cell_type": "markdown",
      "source": [
        "Apply stochastic gradient descent to improve the model's performance using the validation set"
      ],
      "metadata": {
        "id": "UOaNW9kxHFja"
      }
    },
    {
      "cell_type": "code",
      "source": [
        "# Set the learning rate, iterations, and weights (m - coefficients, c - bias) for optimization\n",
        "LR = 0.1\n",
        "epochs = 50\n",
        "c = 0\n",
        "m = np.zeros_like(X_FT_train_embedding[0])\n",
        "\n",
        "# Define sigmoid to convert predictions into probabilities\n",
        "def sigmoid(z):\n",
        "  return 1 / (1 + np.exp(-z))\n",
        "  return sig\n",
        "\n",
        "# Perform stochastic gradient descent for every epoch\n",
        "for epoch in range(1, epochs +1):\n",
        "  for i in range(len(X_FT_train_embedding)):\n",
        "    z = np.dot(m, X_FT_train_embedding[i]) + c\n",
        "    y_pred = sigmoid(z)\n",
        "    # Compute the gradient with respect to m\n",
        "    gr_wrt_m = X_FT_train_embedding[i] * (label_FT_train[i] - y_pred)\n",
        "    # Compute the gradient with respect to c\n",
        "    gr_wrt_c = label_FT_train[i] - y_pred\n",
        "    # Update m and c using the gradients\n",
        "    m = m + LR * gr_wrt_m\n",
        "    c = c + LR * gr_wrt_c\n",
        "\n",
        "# Perform predictions using the gradient descent optimizations on the dev set\n",
        "predictions_dev = []\n",
        "for i in range(len(X_FT_dev_embedding)):\n",
        "  z = np.dot(m, X_FT_dev_embedding[i]) + c\n",
        "  y_pred = sigmoid(z)\n",
        "  if y_pred >= 0.5:\n",
        "    predictions_dev.append(1)\n",
        "  else:\n",
        "    predictions_dev.append(0)\n",
        "\n",
        "# Perform model predictions on the test set\n",
        "predictions_test = []\n",
        "for i in range(len(X_FT_test_embedding)):\n",
        "  z = np.dot(m, X_FT_test_embedding[i]) + c\n",
        "  y_pred = sigmoid(z)\n",
        "  if y_pred >= 0.5:\n",
        "    predictions_test.append(1)\n",
        "  else:\n",
        "    predictions_test.append(0)\n",
        "\n",
        "# Calculate the accuracy and print its performance\n",
        "acc_dev = 100 * accuracy_score(y_true=label_FT_dev, y_pred=predictions_dev)\n",
        "acc_test = 100 * accuracy_score(y_true=label_FT_test, y_pred=predictions_test)\n",
        "acc_test_reference = acc_test\n",
        "\n",
        "print(\"Accuracy score on dev is {:.2f}%\".format(acc_dev))\n",
        "print(\"Accuracy score on test is {:.2f}%\".format(acc_test))"
      ],
      "metadata": {
        "colab": {
          "base_uri": "https://localhost:8080/"
        },
        "id": "hB940h5R1p3c",
        "outputId": "25b2ca6a-454e-4671-a8cd-105241221933"
      },
      "execution_count": null,
      "outputs": [
        {
          "output_type": "stream",
          "name": "stdout",
          "text": [
            "Accuracy score on dev is 52.00%\n",
            "Accuracy score on test is 50.00%\n"
          ]
        }
      ]
    },
    {
      "cell_type": "markdown",
      "source": [
        "Plot model training and validation loss during training\n"
      ],
      "metadata": {
        "id": "iRHWq7fJHeO5"
      }
    },
    {
      "cell_type": "code",
      "source": [
        "# Plot model training and validation loss during training\n",
        "\n",
        "LR = 0.1\n",
        "epochs = 50\n",
        "c = 0\n",
        "m = np.zeros_like(X_FT_train_embedding[0])\n",
        "\n",
        "# Define sigmoid to convert predictions into probabilities\n",
        "def sigmoid(z):\n",
        "  return 1 / (1 + np.exp(-z))\n",
        "\n",
        "train_losses = []\n",
        "val_losses = []\n",
        "\n",
        "# Stochastic gradient descent for every epoch\n",
        "for epoch in range(1, epochs +1):\n",
        "  train_loss_epoch = 0\n",
        "  for i in range(len(X_FT_train_embedding)):\n",
        "    z = np.dot(m, X_FT_train_embedding[i]) + c\n",
        "    y_pred = sigmoid(z)\n",
        "    # Compute the gradient with respect to m\n",
        "    gr_wrt_m = X_FT_train_embedding[i] * (label_FT_train[i] - y_pred)\n",
        "    # Compute the gradient with respect to c\n",
        "    gr_wrt_c = label_FT_train[i] - y_pred\n",
        "    # Update m and c using the gradients\n",
        "    m = m + LR * gr_wrt_m\n",
        "    c = c + LR * gr_wrt_c\n",
        "    # Training loss for the train set\n",
        "    train_loss_epoch = train_loss_epoch + np.square(label_FT_train[i] - y_pred)\n",
        "\n",
        "  # Training set loss\n",
        "  train_loss_epoch = train_loss_epoch / len(X_FT_train_embedding)\n",
        "  train_losses.append(train_loss_epoch)\n",
        "\n",
        "  # Validation loss\n",
        "  val_loss_epoch = 0\n",
        "  for i in range(len(X_FT_dev_embedding)):\n",
        "      z = np.dot(m, X_FT_dev_embedding[i]) + c\n",
        "      y_pred = sigmoid(z)\n",
        "      # Validation loss for the train set\n",
        "      val_loss_epoch = val_loss_epoch + np.square(label_FT_dev[i] - y_pred)\n",
        "  val_loss_epoch = val_loss_epoch / len(X_FT_dev_embedding)\n",
        "  val_losses.append(val_loss_epoch)\n",
        "\n",
        "# Figure and a set of subplots\n",
        "fig, axes = plt.subplots(figsize=(10, 5))\n",
        "\n",
        "# Plotting the training and validation loss\n",
        "axes.plot(train_losses, label = 'Training Loss')\n",
        "axes.plot(val_losses, label = 'Validation Loss')\n",
        "axes.set_title('Training and Validation Loss Per Epoch')\n",
        "axes.set_xlabel('Epoch')\n",
        "axes.set_ylabel('Loss')\n",
        "axes.legend()\n",
        "\n",
        "# Display the plots\n",
        "plt.tight_layout()\n",
        "plt.show()\n"
      ],
      "metadata": {
        "colab": {
          "base_uri": "https://localhost:8080/",
          "height": 507
        },
        "id": "POE-gvANEGu2",
        "outputId": "a8483b52-62de-4652-949b-654d5290f63f"
      },
      "execution_count": null,
      "outputs": [
        {
          "output_type": "display_data",
          "data": {
            "text/plain": [
              "<Figure size 1000x500 with 1 Axes>"
            ],
            "image/png": "[encoded data removed]"
          },
          "metadata": {}
        }
      ]
    },
    {
      "cell_type": "markdown",
      "source": [
        "Plot model training and validation accuracy from training\n"
      ],
      "metadata": {
        "id": "MS4Pp0QoHxt6"
      }
    },
    {
      "cell_type": "code",
      "source": [
        "# Plot accuracy from training\n",
        "\n",
        "LR = 0.1\n",
        "epochs = 50\n",
        "c = 0\n",
        "m = np.zeros_like(X_FT_train_embedding[0])\n",
        "\n",
        "# Define sigmoid to convert predictions into probabilities\n",
        "def sigmoid(z):\n",
        "  return 1 / (1 + np.exp(-z))\n",
        "\n",
        "train_accuracies = []\n",
        "val_accuracies = []\n",
        "\n",
        "# Stochastic gradient descent for every epoch\n",
        "for epoch in range(1, epochs +1):\n",
        "  accurate_train = 0\n",
        "  total_train = 0\n",
        "  accurate_val = 0\n",
        "  total_val = 0\n",
        "  for i in range(len(X_FT_train_embedding)):\n",
        "    z = np.dot(m, X_FT_train_embedding[i]) + c\n",
        "    y_pred = sigmoid(z)\n",
        "    # Accuracy for train set\n",
        "    if y_pred >= 0.5:\n",
        "      predicted_label = 1\n",
        "    else:\n",
        "      predicted_label = 0\n",
        "    if predicted_label == label_FT_train[i]:\n",
        "      accurate_train = accurate_train + 1\n",
        "    total_train = total_train + 1\n",
        "\n",
        "  train_accuracy = accurate_train / total_train\n",
        "  train_accuracies.append(train_accuracy)\n",
        "\n",
        "  # For the validation set\n",
        "  for i in range(len(X_FT_dev_embedding)):\n",
        "    z = np.dot(m, X_FT_dev_embedding[i]) + c\n",
        "    y_pred = sigmoid(z)\n",
        "    # Accuracy for train set\n",
        "    if y_pred >= 0.5:\n",
        "      predicted_label = 1\n",
        "    else:\n",
        "      predicted_label = 0\n",
        "    if predicted_label == label_FT_dev[i]:\n",
        "      accurate_val = accurate_val + 1\n",
        "    total_val = total_val + 1\n",
        "\n",
        "  val_accuracy = accurate_val/ total_val\n",
        "  val_accuracies.append(val_accuracy)\n",
        "\n",
        "# Create a figure and a set of subplots\n",
        "fig, axes = plt.subplots(figsize=(10, 5))\n",
        "\n",
        "# Plotting the training and validation loss\n",
        "axes.plot(train_accuracies, label = 'Training Accuracy')\n",
        "axes.plot(val_accuracies, label = 'Validation Accuracy')\n",
        "axes.set_title('Training and Validation Accuracy Per Epoch')\n",
        "axes.set_xlabel('Epoch')\n",
        "axes.set_ylabel('Loss')\n",
        "axes.legend()\n",
        "\n",
        "# Display the plots\n",
        "plt.tight_layout()\n",
        "plt.show()"
      ],
      "metadata": {
        "colab": {
          "base_uri": "https://localhost:8080/",
          "height": 507
        },
        "id": "4lWzHNppPHON",
        "outputId": "50f7e68c-4345-44d1-ee3c-12b5b350c4f2"
      },
      "execution_count": null,
      "outputs": [
        {
          "output_type": "display_data",
          "data": {
            "text/plain": [
              "<Figure size 1000x500 with 1 Axes>"
            ],
            "image/png": "[encoded data removed]"
          },
          "metadata": {}
        }
      ]
    },
    {
      "cell_type": "code",
      "source": [
        "X_FT_train_embedding = np.array(X_FT_train_embedding)\n",
        "X_FT_test_embedding = np.array(X_FT_test_embedding)\n",
        "print(X_FT_train_embedding.shape)\n",
        "print(X_FT_test_embedding.shape)\n",
        "print(len(label_FT_train))\n",
        "print(len(label_FT_test))"
      ],
      "metadata": {
        "colab": {
          "base_uri": "https://localhost:8080/"
        },
        "id": "jLJImbAndcJt",
        "outputId": "fca4c67c-7772-4eab-8fdf-93b3d9a8b98f"
      },
      "execution_count": null,
      "outputs": [
        {
          "output_type": "stream",
          "name": "stdout",
          "text": [
            "(67349, 128)\n",
            "(472, 128)\n",
            "67349\n",
            "472\n"
          ]
        }
      ]
    },
    {
      "cell_type": "markdown",
      "source": [
        "Finish Training Based on the Following Results\n",
        "\n"
      ],
      "metadata": {
        "id": "DSFhBbCNPDkG"
      }
    },
    {
      "cell_type": "code",
      "source": [
        "# Confirm further training is not beneficial\n",
        "from sklearn.model_selection import GridSearchCV\n",
        "from sklearn.metrics import accuracy_score\n",
        "\n",
        "model_FT = LogisticRegression()\n",
        "\n",
        "param_grid = {\n",
        "    'C': [0.001, 0.01, 0.1, 1, 10],\n",
        "    'penalty': ['l2'],\n",
        "    'solver': ['lbfgs', 'saga']\n",
        "}\n",
        "\n",
        "grid_search = GridSearchCV(estimator=model_FT, param_grid=param_grid, cv=5, scoring='accuracy')\n",
        "grid_search.fit(X_FT_train_embedding, label_FT_train)\n",
        "\n",
        "optimize_model = grid_search.best_estimator_\n",
        "\n",
        "# Use optimized model on validation set\n",
        "y_dev_pred = optimize_model.predict(X_FT_dev_embedding)\n",
        "\n",
        "# Validation Accuracy\n",
        "acc_dev = 100 * accuracy_score(y_true=label_FT_dev, y_pred = y_dev_pred)\n",
        "\n",
        "# Use optimized model on test set\n",
        "y_test_pred = optimize_model.predict(X_FT_test_embedding)\n",
        "\n",
        "# Compute accuracy on test set\n",
        "acc_test = 100 * accuracy_score(y_true = label_FT_test, y_pred = y_test_pred)\n",
        "\n",
        "# Print performance\n",
        "print(\"Validation Accuracy: {:.2f}%\".format(acc_dev))\n",
        "print(\"Test Accuracy: {:.2f}%\".format(acc_test))"
      ],
      "metadata": {
        "colab": {
          "base_uri": "https://localhost:8080/"
        },
        "id": "SdHlYLa-qswz",
        "outputId": "bb1ae815-a5f9-4e94-eb8b-f2836b9a5ac3"
      },
      "execution_count": null,
      "outputs": [
        {
          "output_type": "stream",
          "name": "stdout",
          "text": [
            "Validation Accuracy: 52.00%\n",
            "Test Accuracy: 50.00%\n"
          ]
        }
      ]
    },
    {
      "cell_type": "markdown",
      "metadata": {
        "id": "yV3BgEv8oisK"
      },
      "source": [
        "<hr />"
      ]
    },
    {
      "cell_type": "markdown",
      "metadata": {
        "id": "oq26NkLTmiwt"
      },
      "source": [
        "<hr />"
      ]
    }
  ],
  "metadata": {
    "celltoolbar": "Slideshow",
    "colab": {
      "provenance": []
    },
    "kernelspec": {
      "display_name": "Python 3 (ipykernel)",
      "language": "python",
      "name": "python3"
    },
    "language_info": {
      "codemirror_mode": {
        "name": "ipython",
        "version": 3
      },
      "file_extension": ".py",
      "mimetype": "text/x-python",
      "name": "python",
      "nbconvert_exporter": "python",
      "pygments_lexer": "ipython3",
      "version": "3.11.4"
    }
  },
  "nbformat": 4,
  "nbformat_minor": 0
}